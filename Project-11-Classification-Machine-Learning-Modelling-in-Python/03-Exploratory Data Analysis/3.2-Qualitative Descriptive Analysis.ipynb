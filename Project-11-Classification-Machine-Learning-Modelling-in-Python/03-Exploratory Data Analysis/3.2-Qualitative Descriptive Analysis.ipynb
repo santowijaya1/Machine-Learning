{
 "cells": [
  {
   "cell_type": "markdown",
   "id": "758ed1b7-0677-4987-a091-23c8634ba616",
   "metadata": {
    "id": "758ed1b7-0677-4987-a091-23c8634ba616",
    "jp-MarkdownHeadingCollapsed": true,
    "tags": []
   },
   "source": [
    "## 1 - SetUp Environment"
   ]
  },
  {
   "cell_type": "code",
   "execution_count": 15,
   "id": "8a75bd18-4bb5-4ec9-9423-5c391efcce7c",
   "metadata": {
    "colab": {
     "base_uri": "https://localhost:8080/"
    },
    "executionInfo": {
     "elapsed": 13739,
     "status": "ok",
     "timestamp": 1680041938006,
     "user": {
      "displayName": "Mehrdad M. Dehghan",
      "userId": "08222177611817016206"
     },
     "user_tz": 240
    },
    "id": "8a75bd18-4bb5-4ec9-9423-5c391efcce7c",
    "outputId": "c88032d1-32a8-4d83-cb32-78e9f0586ca6"
   },
   "outputs": [],
   "source": [
    "import numpy as np\n",
    "import pandas as pd\n",
    "import pickle"
   ]
  },
  {
   "cell_type": "markdown",
   "id": "4fdcb7f2",
   "metadata": {},
   "source": [
    "<hr>"
   ]
  },
  {
   "cell_type": "markdown",
   "id": "16f973d7-67db-44c9-9469-eeea0813c270",
   "metadata": {
    "id": "16f973d7-67db-44c9-9469-eeea0813c270",
    "jp-MarkdownHeadingCollapsed": true,
    "tags": []
   },
   "source": [
    "## 2 - Load Dataframe"
   ]
  },
  {
   "cell_type": "code",
   "execution_count": 16,
   "id": "6fd45528-64cd-4fe7-80b3-eeaf8f05573c",
   "metadata": {
    "colab": {
     "base_uri": "https://localhost:8080/",
     "height": 187
    },
    "executionInfo": {
     "elapsed": 335,
     "status": "ok",
     "timestamp": 1680041987192,
     "user": {
      "displayName": "Mehrdad M. Dehghan",
      "userId": "08222177611817016206"
     },
     "user_tz": 240
    },
    "id": "6fd45528-64cd-4fe7-80b3-eeaf8f05573c",
    "outputId": "98ad05fc-9bdb-4e07-8772-d2d4f02b69e1",
    "scrolled": false
   },
   "outputs": [
    {
     "data": {
      "text/html": [
       "<div>\n",
       "<style scoped>\n",
       "    .dataframe tbody tr th:only-of-type {\n",
       "        vertical-align: middle;\n",
       "    }\n",
       "\n",
       "    .dataframe tbody tr th {\n",
       "        vertical-align: top;\n",
       "    }\n",
       "\n",
       "    .dataframe thead th {\n",
       "        text-align: right;\n",
       "    }\n",
       "</style>\n",
       "<table border=\"1\" class=\"dataframe\">\n",
       "  <thead>\n",
       "    <tr style=\"text-align: right;\">\n",
       "      <th></th>\n",
       "      <th>PassengerId</th>\n",
       "      <th>Name</th>\n",
       "      <th>Ticket</th>\n",
       "      <th>Age</th>\n",
       "      <th>Parch</th>\n",
       "      <th>Fare</th>\n",
       "      <th>Pclass</th>\n",
       "      <th>Sex</th>\n",
       "      <th>Cabin</th>\n",
       "      <th>Embarked</th>\n",
       "      <th>Survived</th>\n",
       "    </tr>\n",
       "  </thead>\n",
       "  <tbody>\n",
       "    <tr>\n",
       "      <th>0</th>\n",
       "      <td>1</td>\n",
       "      <td>Braund, Mr. Owen Harris</td>\n",
       "      <td>A/5 21171</td>\n",
       "      <td>22.0</td>\n",
       "      <td>0</td>\n",
       "      <td>7.2500</td>\n",
       "      <td>3</td>\n",
       "      <td>male</td>\n",
       "      <td>Unknown</td>\n",
       "      <td>S</td>\n",
       "      <td>0</td>\n",
       "    </tr>\n",
       "    <tr>\n",
       "      <th>1</th>\n",
       "      <td>2</td>\n",
       "      <td>Cumings, Mrs. John Bradley (Florence Briggs Th...</td>\n",
       "      <td>PC 17599</td>\n",
       "      <td>38.0</td>\n",
       "      <td>0</td>\n",
       "      <td>71.2833</td>\n",
       "      <td>1</td>\n",
       "      <td>female</td>\n",
       "      <td>C</td>\n",
       "      <td>C</td>\n",
       "      <td>1</td>\n",
       "    </tr>\n",
       "    <tr>\n",
       "      <th>2</th>\n",
       "      <td>3</td>\n",
       "      <td>Heikkinen, Miss. Laina</td>\n",
       "      <td>STON/O2. 3101282</td>\n",
       "      <td>26.0</td>\n",
       "      <td>0</td>\n",
       "      <td>7.9250</td>\n",
       "      <td>3</td>\n",
       "      <td>female</td>\n",
       "      <td>Unknown</td>\n",
       "      <td>S</td>\n",
       "      <td>1</td>\n",
       "    </tr>\n",
       "    <tr>\n",
       "      <th>3</th>\n",
       "      <td>4</td>\n",
       "      <td>Futrelle, Mrs. Jacques Heath (Lily May Peel)</td>\n",
       "      <td>113803</td>\n",
       "      <td>35.0</td>\n",
       "      <td>0</td>\n",
       "      <td>53.1000</td>\n",
       "      <td>1</td>\n",
       "      <td>female</td>\n",
       "      <td>C</td>\n",
       "      <td>S</td>\n",
       "      <td>1</td>\n",
       "    </tr>\n",
       "    <tr>\n",
       "      <th>4</th>\n",
       "      <td>5</td>\n",
       "      <td>Allen, Mr. William Henry</td>\n",
       "      <td>373450</td>\n",
       "      <td>35.0</td>\n",
       "      <td>0</td>\n",
       "      <td>8.0500</td>\n",
       "      <td>3</td>\n",
       "      <td>male</td>\n",
       "      <td>Unknown</td>\n",
       "      <td>S</td>\n",
       "      <td>0</td>\n",
       "    </tr>\n",
       "  </tbody>\n",
       "</table>\n",
       "</div>"
      ],
      "text/plain": [
       "   PassengerId                                               Name  \\\n",
       "0            1                            Braund, Mr. Owen Harris   \n",
       "1            2  Cumings, Mrs. John Bradley (Florence Briggs Th...   \n",
       "2            3                             Heikkinen, Miss. Laina   \n",
       "3            4       Futrelle, Mrs. Jacques Heath (Lily May Peel)   \n",
       "4            5                           Allen, Mr. William Henry   \n",
       "\n",
       "             Ticket   Age  Parch     Fare  Pclass     Sex    Cabin Embarked  \\\n",
       "0         A/5 21171  22.0      0   7.2500       3    male  Unknown        S   \n",
       "1          PC 17599  38.0      0  71.2833       1  female        C        C   \n",
       "2  STON/O2. 3101282  26.0      0   7.9250       3  female  Unknown        S   \n",
       "3            113803  35.0      0  53.1000       1  female        C        S   \n",
       "4            373450  35.0      0   8.0500       3    male  Unknown        S   \n",
       "\n",
       "   Survived  \n",
       "0         0  \n",
       "1         1  \n",
       "2         1  \n",
       "3         1  \n",
       "4         0  "
      ]
     },
     "execution_count": 16,
     "metadata": {},
     "output_type": "execute_result"
    }
   ],
   "source": [
    "with open('../Assets/Version 1-4.pickle', 'rb') as file:\n",
    "    df = pickle.load(file)\n",
    "\n",
    "df.head()"
   ]
  },
  {
   "cell_type": "markdown",
   "id": "9b1c14e1",
   "metadata": {},
   "source": [
    "<hr>"
   ]
  },
  {
   "cell_type": "markdown",
   "id": "a7a49537-9028-4d11-a07f-907f250b0665",
   "metadata": {
    "id": "a7a49537-9028-4d11-a07f-907f250b0665",
    "jp-MarkdownHeadingCollapsed": true,
    "tags": []
   },
   "source": [
    "## 3 - Descriptive Analysis Function"
   ]
  },
  {
   "cell_type": "markdown",
   "id": "eca3078a-3fef-4677-acfc-74433f5d9d06",
   "metadata": {
    "id": "eca3078a-3fef-4677-acfc-74433f5d9d06"
   },
   "source": [
    "in this section, we make a function in which all descriptive analysis measurments are calculated. the qualitative variables of this dataset are:</br>\n",
    "<li> Sex\n",
    "<li> Survived\n",
    "<li> Cabin\n",
    "<li> Embarked\n",
    "<li> Pclass"
   ]
  },
  {
   "cell_type": "code",
   "execution_count": 17,
   "id": "e70c2d21-3cef-46bb-ab36-fe342b5471f4",
   "metadata": {
    "executionInfo": {
     "elapsed": 137,
     "status": "ok",
     "timestamp": 1680041998079,
     "user": {
      "displayName": "Mehrdad M. Dehghan",
      "userId": "08222177611817016206"
     },
     "user_tz": 240
    },
    "id": "e70c2d21-3cef-46bb-ab36-fe342b5471f4"
   },
   "outputs": [],
   "source": [
    "qualitative_list = ['Sex' , 'Survived' , 'Cabin' , 'Embarked' , 'Pclass']"
   ]
  },
  {
   "cell_type": "markdown",
   "id": "28314940",
   "metadata": {},
   "source": [
    "now we create a function to calculate frequency table."
   ]
  },
  {
   "cell_type": "code",
   "execution_count": 18,
   "id": "832ae641-8661-47cd-8039-f5bca29c4707",
   "metadata": {
    "executionInfo": {
     "elapsed": 129,
     "status": "ok",
     "timestamp": 1680042014625,
     "user": {
      "displayName": "Mehrdad M. Dehghan",
      "userId": "08222177611817016206"
     },
     "user_tz": 240
    },
    "id": "832ae641-8661-47cd-8039-f5bca29c4707"
   },
   "outputs": [],
   "source": [
    "def qualitative_analysis(ql):\n",
    "    fTable = df[ql].value_counts()\n",
    "    return fTable\n",
    "\n",
    "def frequency_table(a):\n",
    "    fTable = qualitative_analysis(a)\n",
    "    fdf = pd.DataFrame(fTable)\n",
    "    \n",
    "    return fdf"
   ]
  },
  {
   "cell_type": "markdown",
   "id": "79c0d168",
   "metadata": {},
   "source": [
    "<hr>"
   ]
  },
  {
   "cell_type": "markdown",
   "id": "707da017-5446-46e7-b73d-207467e8c580",
   "metadata": {
    "id": "707da017-5446-46e7-b73d-207467e8c580",
    "tags": []
   },
   "source": [
    "## 4 - Statistical Analysis"
   ]
  },
  {
   "cell_type": "markdown",
   "id": "621cdc8e",
   "metadata": {},
   "source": [
    "Now, we run the funcion and find the measurements."
   ]
  },
  {
   "cell_type": "markdown",
   "id": "8fb9fd2e",
   "metadata": {},
   "source": [
    ">### 4.1 - Sex"
   ]
  },
  {
   "cell_type": "code",
   "execution_count": 19,
   "id": "cf5017c1",
   "metadata": {},
   "outputs": [
    {
     "data": {
      "text/html": [
       "<div>\n",
       "<style scoped>\n",
       "    .dataframe tbody tr th:only-of-type {\n",
       "        vertical-align: middle;\n",
       "    }\n",
       "\n",
       "    .dataframe tbody tr th {\n",
       "        vertical-align: top;\n",
       "    }\n",
       "\n",
       "    .dataframe thead th {\n",
       "        text-align: right;\n",
       "    }\n",
       "</style>\n",
       "<table border=\"1\" class=\"dataframe\">\n",
       "  <thead>\n",
       "    <tr style=\"text-align: right;\">\n",
       "      <th></th>\n",
       "      <th>Sex</th>\n",
       "    </tr>\n",
       "  </thead>\n",
       "  <tbody>\n",
       "    <tr>\n",
       "      <th>male</th>\n",
       "      <td>842</td>\n",
       "    </tr>\n",
       "    <tr>\n",
       "      <th>female</th>\n",
       "      <td>464</td>\n",
       "    </tr>\n",
       "  </tbody>\n",
       "</table>\n",
       "</div>"
      ],
      "text/plain": [
       "        Sex\n",
       "male    842\n",
       "female  464"
      ]
     },
     "execution_count": 19,
     "metadata": {},
     "output_type": "execute_result"
    }
   ],
   "source": [
    "a = qualitative_list[0]\n",
    "\n",
    "frequency_table(a)"
   ]
  },
  {
   "cell_type": "markdown",
   "id": "cd1c432a",
   "metadata": {},
   "source": [
    "<i>the table shows the most frequent sex is male</i>"
   ]
  },
  {
   "cell_type": "markdown",
   "id": "1bd43a69",
   "metadata": {},
   "source": [
    ">### 4.2 - Survived"
   ]
  },
  {
   "cell_type": "code",
   "execution_count": 20,
   "id": "399004e9",
   "metadata": {},
   "outputs": [
    {
     "data": {
      "text/html": [
       "<div>\n",
       "<style scoped>\n",
       "    .dataframe tbody tr th:only-of-type {\n",
       "        vertical-align: middle;\n",
       "    }\n",
       "\n",
       "    .dataframe tbody tr th {\n",
       "        vertical-align: top;\n",
       "    }\n",
       "\n",
       "    .dataframe thead th {\n",
       "        text-align: right;\n",
       "    }\n",
       "</style>\n",
       "<table border=\"1\" class=\"dataframe\">\n",
       "  <thead>\n",
       "    <tr style=\"text-align: right;\">\n",
       "      <th></th>\n",
       "      <th>Survived</th>\n",
       "    </tr>\n",
       "  </thead>\n",
       "  <tbody>\n",
       "    <tr>\n",
       "      <th>0</th>\n",
       "      <td>814</td>\n",
       "    </tr>\n",
       "    <tr>\n",
       "      <th>1</th>\n",
       "      <td>492</td>\n",
       "    </tr>\n",
       "  </tbody>\n",
       "</table>\n",
       "</div>"
      ],
      "text/plain": [
       "   Survived\n",
       "0       814\n",
       "1       492"
      ]
     },
     "execution_count": 20,
     "metadata": {},
     "output_type": "execute_result"
    }
   ],
   "source": [
    "a = qualitative_list[1]\n",
    "\n",
    "frequency_table(a)"
   ]
  },
  {
   "cell_type": "markdown",
   "id": "a7851dbc",
   "metadata": {},
   "source": [
    "<i>the table shows the most frequent passengers are dead</i>"
   ]
  },
  {
   "cell_type": "markdown",
   "id": "ceb147e3",
   "metadata": {},
   "source": [
    ">### 4.3 - Cabin"
   ]
  },
  {
   "cell_type": "code",
   "execution_count": 21,
   "id": "b5bf4a9d",
   "metadata": {},
   "outputs": [
    {
     "data": {
      "text/html": [
       "<div>\n",
       "<style scoped>\n",
       "    .dataframe tbody tr th:only-of-type {\n",
       "        vertical-align: middle;\n",
       "    }\n",
       "\n",
       "    .dataframe tbody tr th {\n",
       "        vertical-align: top;\n",
       "    }\n",
       "\n",
       "    .dataframe thead th {\n",
       "        text-align: right;\n",
       "    }\n",
       "</style>\n",
       "<table border=\"1\" class=\"dataframe\">\n",
       "  <thead>\n",
       "    <tr style=\"text-align: right;\">\n",
       "      <th></th>\n",
       "      <th>Cabin</th>\n",
       "    </tr>\n",
       "  </thead>\n",
       "  <tbody>\n",
       "    <tr>\n",
       "      <th>Unknown</th>\n",
       "      <td>1013</td>\n",
       "    </tr>\n",
       "    <tr>\n",
       "      <th>C</th>\n",
       "      <td>94</td>\n",
       "    </tr>\n",
       "    <tr>\n",
       "      <th>B</th>\n",
       "      <td>63</td>\n",
       "    </tr>\n",
       "    <tr>\n",
       "      <th>D</th>\n",
       "      <td>46</td>\n",
       "    </tr>\n",
       "    <tr>\n",
       "      <th>E</th>\n",
       "      <td>41</td>\n",
       "    </tr>\n",
       "    <tr>\n",
       "      <th>A</th>\n",
       "      <td>22</td>\n",
       "    </tr>\n",
       "    <tr>\n",
       "      <th>F</th>\n",
       "      <td>21</td>\n",
       "    </tr>\n",
       "    <tr>\n",
       "      <th>G</th>\n",
       "      <td>5</td>\n",
       "    </tr>\n",
       "    <tr>\n",
       "      <th>T</th>\n",
       "      <td>1</td>\n",
       "    </tr>\n",
       "  </tbody>\n",
       "</table>\n",
       "</div>"
      ],
      "text/plain": [
       "         Cabin\n",
       "Unknown   1013\n",
       "C           94\n",
       "B           63\n",
       "D           46\n",
       "E           41\n",
       "A           22\n",
       "F           21\n",
       "G            5\n",
       "T            1"
      ]
     },
     "execution_count": 21,
     "metadata": {},
     "output_type": "execute_result"
    }
   ],
   "source": [
    "a = qualitative_list[2]\n",
    "\n",
    "frequency_table(a)"
   ]
  },
  {
   "cell_type": "markdown",
   "id": "31a44ca8",
   "metadata": {},
   "source": [
    "<i>the table shows the most frequent cabin is Unknown, whereas we have the least number of passengers is T and G</i>"
   ]
  },
  {
   "cell_type": "markdown",
   "id": "fbef4f63",
   "metadata": {},
   "source": [
    ">### 4.4 - Embarked"
   ]
  },
  {
   "cell_type": "code",
   "execution_count": 22,
   "id": "ff9f44cb",
   "metadata": {},
   "outputs": [
    {
     "data": {
      "text/html": [
       "<div>\n",
       "<style scoped>\n",
       "    .dataframe tbody tr th:only-of-type {\n",
       "        vertical-align: middle;\n",
       "    }\n",
       "\n",
       "    .dataframe tbody tr th {\n",
       "        vertical-align: top;\n",
       "    }\n",
       "\n",
       "    .dataframe thead th {\n",
       "        text-align: right;\n",
       "    }\n",
       "</style>\n",
       "<table border=\"1\" class=\"dataframe\">\n",
       "  <thead>\n",
       "    <tr style=\"text-align: right;\">\n",
       "      <th></th>\n",
       "      <th>Embarked</th>\n",
       "    </tr>\n",
       "  </thead>\n",
       "  <tbody>\n",
       "    <tr>\n",
       "      <th>S</th>\n",
       "      <td>913</td>\n",
       "    </tr>\n",
       "    <tr>\n",
       "      <th>C</th>\n",
       "      <td>270</td>\n",
       "    </tr>\n",
       "    <tr>\n",
       "      <th>Q</th>\n",
       "      <td>123</td>\n",
       "    </tr>\n",
       "  </tbody>\n",
       "</table>\n",
       "</div>"
      ],
      "text/plain": [
       "   Embarked\n",
       "S       913\n",
       "C       270\n",
       "Q       123"
      ]
     },
     "execution_count": 22,
     "metadata": {},
     "output_type": "execute_result"
    }
   ],
   "source": [
    "a = qualitative_list[3]\n",
    "\n",
    "frequency_table(a)"
   ]
  },
  {
   "cell_type": "markdown",
   "id": "b40a078f",
   "metadata": {},
   "source": [
    "<i>the table shows the most frequent Embarked is S (Southampton)</i>"
   ]
  },
  {
   "cell_type": "markdown",
   "id": "348b49cd",
   "metadata": {},
   "source": [
    ">### 4.5 - Pclass"
   ]
  },
  {
   "cell_type": "code",
   "execution_count": 23,
   "id": "ea53678c",
   "metadata": {},
   "outputs": [
    {
     "data": {
      "text/html": [
       "<div>\n",
       "<style scoped>\n",
       "    .dataframe tbody tr th:only-of-type {\n",
       "        vertical-align: middle;\n",
       "    }\n",
       "\n",
       "    .dataframe tbody tr th {\n",
       "        vertical-align: top;\n",
       "    }\n",
       "\n",
       "    .dataframe thead th {\n",
       "        text-align: right;\n",
       "    }\n",
       "</style>\n",
       "<table border=\"1\" class=\"dataframe\">\n",
       "  <thead>\n",
       "    <tr style=\"text-align: right;\">\n",
       "      <th></th>\n",
       "      <th>Pclass</th>\n",
       "    </tr>\n",
       "  </thead>\n",
       "  <tbody>\n",
       "    <tr>\n",
       "      <th>3</th>\n",
       "      <td>708</td>\n",
       "    </tr>\n",
       "    <tr>\n",
       "      <th>1</th>\n",
       "      <td>321</td>\n",
       "    </tr>\n",
       "    <tr>\n",
       "      <th>2</th>\n",
       "      <td>277</td>\n",
       "    </tr>\n",
       "  </tbody>\n",
       "</table>\n",
       "</div>"
      ],
      "text/plain": [
       "   Pclass\n",
       "3     708\n",
       "1     321\n",
       "2     277"
      ]
     },
     "execution_count": 23,
     "metadata": {},
     "output_type": "execute_result"
    }
   ],
   "source": [
    "a = qualitative_list[4]\n",
    "\n",
    "frequency_table(a)"
   ]
  },
  {
   "cell_type": "markdown",
   "id": "761b74b3",
   "metadata": {},
   "source": [
    "<i>the table shows the most frequent class is 3 (Low Class)</i>"
   ]
  },
  {
   "cell_type": "markdown",
   "id": "23e0d8fd",
   "metadata": {},
   "source": [
    "<hr>"
   ]
  },
  {
   "cell_type": "markdown",
   "id": "0719739e-778f-4844-aa55-153d0ee2d6d2",
   "metadata": {
    "id": "0719739e-778f-4844-aa55-153d0ee2d6d2",
    "tags": []
   },
   "source": [
    "## 5 - Bar Chart "
   ]
  },
  {
   "cell_type": "markdown",
   "id": "86d2f91d-88de-4d0b-b1cf-8afbbefa9200",
   "metadata": {
    "id": "86d2f91d-88de-4d0b-b1cf-8afbbefa9200"
   },
   "source": [
    "first we create a function to draw bar plot"
   ]
  },
  {
   "cell_type": "code",
   "execution_count": 32,
   "id": "0e610fe6-09ac-48fc-b34d-c6de3afe95ac",
   "metadata": {
    "executionInfo": {
     "elapsed": 263,
     "status": "ok",
     "timestamp": 1680042104253,
     "user": {
      "displayName": "Mehrdad M. Dehghan",
      "userId": "08222177611817016206"
     },
     "user_tz": 240
    },
    "id": "0e610fe6-09ac-48fc-b34d-c6de3afe95ac"
   },
   "outputs": [],
   "source": [
    "def bar_plot(a):\n",
    "    import seaborn as sns\n",
    "    import matplotlib.pyplot as plt\n",
    "       \n",
    "    plt.figure(figsize = (8,3))\n",
    "    ax = sns.countplot(x = a, data = df, color='gray', alpha = 0.3)\n",
    "    sns.despine(left = True)\n",
    "    ax.set_xticklabels(ax.get_xticklabels())\n",
    "    \n",
    "    return plt.show()"
   ]
  },
  {
   "cell_type": "code",
   "execution_count": 33,
   "id": "deb74e0b-e95b-4b63-8605-fbc3b76384f7",
   "metadata": {
    "colab": {
     "base_uri": "https://localhost:8080/",
     "height": 240
    },
    "executionInfo": {
     "elapsed": 351,
     "status": "ok",
     "timestamp": 1680042107108,
     "user": {
      "displayName": "Mehrdad M. Dehghan",
      "userId": "08222177611817016206"
     },
     "user_tz": 240
    },
    "id": "deb74e0b-e95b-4b63-8605-fbc3b76384f7",
    "outputId": "a13ca703-7a07-4e71-81a5-f17a8ef7f690"
   },
   "outputs": [
    {
     "data": {
      "image/png": "[encoded data removed]",
      "text/plain": [
       "<Figure size 800x300 with 1 Axes>"
      ]
     },
     "metadata": {},
     "output_type": "display_data"
    }
   ],
   "source": [
    "bar_plot(qualitative_list[0])"
   ]
  },
  {
   "cell_type": "code",
   "execution_count": 34,
   "id": "fa618d12",
   "metadata": {},
   "outputs": [
    {
     "data": {
      "image/png": "[encoded data removed]",
      "text/plain": [
       "<Figure size 800x300 with 1 Axes>"
      ]
     },
     "metadata": {},
     "output_type": "display_data"
    }
   ],
   "source": [
    "bar_plot(qualitative_list[1])"
   ]
  },
  {
   "cell_type": "code",
   "execution_count": 35,
   "id": "c741a85d",
   "metadata": {},
   "outputs": [
    {
     "data": {
      "image/png": "[encoded data removed]",
      "text/plain": [
       "<Figure size 800x300 with 1 Axes>"
      ]
     },
     "metadata": {},
     "output_type": "display_data"
    }
   ],
   "source": [
    "bar_plot(qualitative_list[2])"
   ]
  },
  {
   "cell_type": "code",
   "execution_count": 36,
   "id": "8ad51702",
   "metadata": {},
   "outputs": [
    {
     "data": {
      "image/png": "[encoded data removed]",
      "text/plain": [
       "<Figure size 800x300 with 1 Axes>"
      ]
     },
     "metadata": {},
     "output_type": "display_data"
    }
   ],
   "source": [
    "bar_plot(qualitative_list[3])"
   ]
  },
  {
   "cell_type": "code",
   "execution_count": 37,
   "id": "b9c80ff8",
   "metadata": {},
   "outputs": [
    {
     "data": {
      "image/png": "[encoded data removed]",
      "text/plain": [
       "<Figure size 800x300 with 1 Axes>"
      ]
     },
     "metadata": {},
     "output_type": "display_data"
    }
   ],
   "source": [
    "bar_plot(qualitative_list[4])"
   ]
  },
  {
   "cell_type": "code",
   "execution_count": null,
   "id": "673d6ca1",
   "metadata": {},
   "outputs": [],
   "source": []
  }
 ],
 "metadata": {
  "colab": {
   "provenance": []
  },
  "kernelspec": {
   "display_name": "Python 3 (ipykernel)",
   "language": "python",
   "name": "python3"
  },
  "language_info": {
   "codemirror_mode": {
    "name": "ipython",
    "version": 3
   },
   "file_extension": ".py",
   "mimetype": "text/x-python",
   "name": "python",
   "nbconvert_exporter": "python",
   "pygments_lexer": "ipython3",
   "version": "3.9.13"
  }
 },
 "nbformat": 4,
 "nbformat_minor": 5
}
