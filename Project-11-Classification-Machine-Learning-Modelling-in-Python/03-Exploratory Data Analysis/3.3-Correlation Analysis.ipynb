{
 "cells": [
  {
   "cell_type": "markdown",
   "id": "758ed1b7-0677-4987-a091-23c8634ba616",
   "metadata": {
    "id": "758ed1b7-0677-4987-a091-23c8634ba616",
    "jp-MarkdownHeadingCollapsed": true,
    "tags": []
   },
   "source": [
    "## 1 - SetUp Environment"
   ]
  },
  {
   "cell_type": "code",
   "execution_count": 10,
   "id": "8a75bd18-4bb5-4ec9-9423-5c391efcce7c",
   "metadata": {
    "colab": {
     "base_uri": "https://localhost:8080/"
    },
    "executionInfo": {
     "elapsed": 16876,
     "status": "ok",
     "timestamp": 1680044830681,
     "user": {
      "displayName": "Mehrdad M. Dehghan",
      "userId": "08222177611817016206"
     },
     "user_tz": 240
    },
    "id": "8a75bd18-4bb5-4ec9-9423-5c391efcce7c",
    "outputId": "e6b54382-5162-4d37-c08d-57ebe2a6a37e"
   },
   "outputs": [],
   "source": [
    "import numpy as np\n",
    "import pandas as pd\n",
    "import pickle"
   ]
  },
  {
   "cell_type": "markdown",
   "id": "0817c4ac",
   "metadata": {},
   "source": [
    "<hr>"
   ]
  },
  {
   "cell_type": "markdown",
   "id": "16f973d7-67db-44c9-9469-eeea0813c270",
   "metadata": {
    "id": "16f973d7-67db-44c9-9469-eeea0813c270",
    "tags": []
   },
   "source": [
    "## 2 - Load Dataframe"
   ]
  },
  {
   "cell_type": "code",
   "execution_count": 12,
   "id": "6fd45528-64cd-4fe7-80b3-eeaf8f05573c",
   "metadata": {
    "colab": {
     "base_uri": "https://localhost:8080/",
     "height": 187
    },
    "executionInfo": {
     "elapsed": 315,
     "status": "ok",
     "timestamp": 1680044844350,
     "user": {
      "displayName": "Mehrdad M. Dehghan",
      "userId": "08222177611817016206"
     },
     "user_tz": 240
    },
    "id": "6fd45528-64cd-4fe7-80b3-eeaf8f05573c",
    "outputId": "88b4a10d-c13d-4331-b429-3313a7258691",
    "scrolled": true
   },
   "outputs": [
    {
     "data": {
      "text/html": [
       "<div>\n",
       "<style scoped>\n",
       "    .dataframe tbody tr th:only-of-type {\n",
       "        vertical-align: middle;\n",
       "    }\n",
       "\n",
       "    .dataframe tbody tr th {\n",
       "        vertical-align: top;\n",
       "    }\n",
       "\n",
       "    .dataframe thead th {\n",
       "        text-align: right;\n",
       "    }\n",
       "</style>\n",
       "<table border=\"1\" class=\"dataframe\">\n",
       "  <thead>\n",
       "    <tr style=\"text-align: right;\">\n",
       "      <th></th>\n",
       "      <th>PassengerId</th>\n",
       "      <th>Name</th>\n",
       "      <th>Ticket</th>\n",
       "      <th>Age</th>\n",
       "      <th>Parch</th>\n",
       "      <th>Fare</th>\n",
       "      <th>Pclass</th>\n",
       "      <th>Sex</th>\n",
       "      <th>Cabin</th>\n",
       "      <th>Embarked</th>\n",
       "      <th>Survived</th>\n",
       "    </tr>\n",
       "  </thead>\n",
       "  <tbody>\n",
       "    <tr>\n",
       "      <th>0</th>\n",
       "      <td>1</td>\n",
       "      <td>Braund, Mr. Owen Harris</td>\n",
       "      <td>A/5 21171</td>\n",
       "      <td>22.0</td>\n",
       "      <td>0</td>\n",
       "      <td>7.2500</td>\n",
       "      <td>3</td>\n",
       "      <td>male</td>\n",
       "      <td>Unknown</td>\n",
       "      <td>S</td>\n",
       "      <td>0</td>\n",
       "    </tr>\n",
       "    <tr>\n",
       "      <th>1</th>\n",
       "      <td>2</td>\n",
       "      <td>Cumings, Mrs. John Bradley (Florence Briggs Th...</td>\n",
       "      <td>PC 17599</td>\n",
       "      <td>38.0</td>\n",
       "      <td>0</td>\n",
       "      <td>71.2833</td>\n",
       "      <td>1</td>\n",
       "      <td>female</td>\n",
       "      <td>C</td>\n",
       "      <td>C</td>\n",
       "      <td>1</td>\n",
       "    </tr>\n",
       "    <tr>\n",
       "      <th>2</th>\n",
       "      <td>3</td>\n",
       "      <td>Heikkinen, Miss. Laina</td>\n",
       "      <td>STON/O2. 3101282</td>\n",
       "      <td>26.0</td>\n",
       "      <td>0</td>\n",
       "      <td>7.9250</td>\n",
       "      <td>3</td>\n",
       "      <td>female</td>\n",
       "      <td>Unknown</td>\n",
       "      <td>S</td>\n",
       "      <td>1</td>\n",
       "    </tr>\n",
       "    <tr>\n",
       "      <th>3</th>\n",
       "      <td>4</td>\n",
       "      <td>Futrelle, Mrs. Jacques Heath (Lily May Peel)</td>\n",
       "      <td>113803</td>\n",
       "      <td>35.0</td>\n",
       "      <td>0</td>\n",
       "      <td>53.1000</td>\n",
       "      <td>1</td>\n",
       "      <td>female</td>\n",
       "      <td>C</td>\n",
       "      <td>S</td>\n",
       "      <td>1</td>\n",
       "    </tr>\n",
       "    <tr>\n",
       "      <th>4</th>\n",
       "      <td>5</td>\n",
       "      <td>Allen, Mr. William Henry</td>\n",
       "      <td>373450</td>\n",
       "      <td>35.0</td>\n",
       "      <td>0</td>\n",
       "      <td>8.0500</td>\n",
       "      <td>3</td>\n",
       "      <td>male</td>\n",
       "      <td>Unknown</td>\n",
       "      <td>S</td>\n",
       "      <td>0</td>\n",
       "    </tr>\n",
       "  </tbody>\n",
       "</table>\n",
       "</div>"
      ],
      "text/plain": [
       "   PassengerId                                               Name  \\\n",
       "0            1                            Braund, Mr. Owen Harris   \n",
       "1            2  Cumings, Mrs. John Bradley (Florence Briggs Th...   \n",
       "2            3                             Heikkinen, Miss. Laina   \n",
       "3            4       Futrelle, Mrs. Jacques Heath (Lily May Peel)   \n",
       "4            5                           Allen, Mr. William Henry   \n",
       "\n",
       "             Ticket   Age  Parch     Fare  Pclass     Sex    Cabin Embarked  \\\n",
       "0         A/5 21171  22.0      0   7.2500       3    male  Unknown        S   \n",
       "1          PC 17599  38.0      0  71.2833       1  female        C        C   \n",
       "2  STON/O2. 3101282  26.0      0   7.9250       3  female  Unknown        S   \n",
       "3            113803  35.0      0  53.1000       1  female        C        S   \n",
       "4            373450  35.0      0   8.0500       3    male  Unknown        S   \n",
       "\n",
       "   Survived  \n",
       "0         0  \n",
       "1         1  \n",
       "2         1  \n",
       "3         1  \n",
       "4         0  "
      ]
     },
     "execution_count": 12,
     "metadata": {},
     "output_type": "execute_result"
    }
   ],
   "source": [
    "with open('../Assets/Version 1-4.pickle', 'rb') as file:\n",
    "    df = pickle.load(file)\n",
    "\n",
    "df.head()"
   ]
  },
  {
   "cell_type": "markdown",
   "id": "afc2d304",
   "metadata": {},
   "source": [
    "<hr>"
   ]
  },
  {
   "cell_type": "markdown",
   "id": "63af7cfa",
   "metadata": {},
   "source": [
    "## 3 - Pearson: Numerical Variable"
   ]
  },
  {
   "cell_type": "markdown",
   "id": "1705104d",
   "metadata": {},
   "source": [
    "For doing this, we use pearson correlation."
   ]
  },
  {
   "cell_type": "code",
   "execution_count": 14,
   "id": "4c4e9799",
   "metadata": {},
   "outputs": [
    {
     "data": {
      "text/html": [
       "<div>\n",
       "<style scoped>\n",
       "    .dataframe tbody tr th:only-of-type {\n",
       "        vertical-align: middle;\n",
       "    }\n",
       "\n",
       "    .dataframe tbody tr th {\n",
       "        vertical-align: top;\n",
       "    }\n",
       "\n",
       "    .dataframe thead th {\n",
       "        text-align: right;\n",
       "    }\n",
       "</style>\n",
       "<table border=\"1\" class=\"dataframe\">\n",
       "  <thead>\n",
       "    <tr style=\"text-align: right;\">\n",
       "      <th></th>\n",
       "      <th>Age</th>\n",
       "      <th>Parch</th>\n",
       "      <th>Fare</th>\n",
       "    </tr>\n",
       "  </thead>\n",
       "  <tbody>\n",
       "    <tr>\n",
       "      <th>Age</th>\n",
       "      <td>1.000000</td>\n",
       "      <td>-0.124444</td>\n",
       "      <td>0.177769</td>\n",
       "    </tr>\n",
       "    <tr>\n",
       "      <th>Parch</th>\n",
       "      <td>-0.124444</td>\n",
       "      <td>1.000000</td>\n",
       "      <td>0.222327</td>\n",
       "    </tr>\n",
       "    <tr>\n",
       "      <th>Fare</th>\n",
       "      <td>0.177769</td>\n",
       "      <td>0.222327</td>\n",
       "      <td>1.000000</td>\n",
       "    </tr>\n",
       "  </tbody>\n",
       "</table>\n",
       "</div>"
      ],
      "text/plain": [
       "            Age     Parch      Fare\n",
       "Age    1.000000 -0.124444  0.177769\n",
       "Parch -0.124444  1.000000  0.222327\n",
       "Fare   0.177769  0.222327  1.000000"
      ]
     },
     "execution_count": 14,
     "metadata": {},
     "output_type": "execute_result"
    }
   ],
   "source": [
    "pearson_correlation = df[['Age' , 'Parch' , 'Fare']].corr()\n",
    "pearson_correlation"
   ]
  },
  {
   "cell_type": "markdown",
   "id": "FEtCKsYrdO0f",
   "metadata": {
    "id": "FEtCKsYrdO0f"
   },
   "source": [
    "*   Age ~ Parch : weak negative \n",
    "*   Fare ~ Parch : weak positive \n",
    "*   Parch ~ Fare : moderate positive "
   ]
  },
  {
   "cell_type": "markdown",
   "id": "f0e4cf99",
   "metadata": {},
   "source": [
    "<hr>"
   ]
  },
  {
   "cell_type": "markdown",
   "id": "064b02a8",
   "metadata": {},
   "source": [
    "## 4 - Chi Square: Categorical Variable"
   ]
  },
  {
   "cell_type": "markdown",
   "id": "1d353349",
   "metadata": {},
   "source": [
    "For doing this, we use chi-square correlation.\n",
    "* Null hypotheses : there is no relationship between the two variables\n",
    "* Alternative hypotheses : there is significant relationship between the two variables"
   ]
  },
  {
   "cell_type": "code",
   "execution_count": 27,
   "id": "7b0e2f16",
   "metadata": {},
   "outputs": [],
   "source": [
    "from scipy.stats import chi2_contingency\n",
    "\n",
    "def chi_square(a , b):\n",
    "    contingency_table = pd.crosstab(df[a], df[b])\n",
    "    stat, p, dof, expected = chi2_contingency(contingency_table)\n",
    "    \n",
    "    print(f\"Chi-squared: {stat}\")\n",
    "    print(f\"P-value: {p}\")\n",
    "    print(f\"Degrees of freedom: {dof}\") "
   ]
  },
  {
   "cell_type": "markdown",
   "id": "c29e2501",
   "metadata": {},
   "source": [
    "now make a for lopp to calculate for all categorical variables:"
   ]
  },
  {
   "cell_type": "code",
   "execution_count": 32,
   "id": "7b07a9f1",
   "metadata": {},
   "outputs": [
    {
     "name": "stdout",
     "output_type": "stream",
     "text": [
      "Sex  ~  Survived\n",
      "Chi-squared: 614.1656258936159\n",
      "P-value: 1.3890628126435168e-135\n",
      "Degrees of freedom: 1\n",
      "\n",
      "Sex  ~  Cabin\n",
      "Chi-squared: 40.8529447444464\n",
      "P-value: 2.2208180154061487e-06\n",
      "Degrees of freedom: 8\n",
      "\n",
      "Sex  ~  Embarked\n",
      "Chi-squared: 19.469838232597045\n",
      "P-value: 5.91804612917703e-05\n",
      "Degrees of freedom: 2\n",
      "\n",
      "Sex  ~  Pclass\n",
      "Chi-squared: 19.323683653010775\n",
      "P-value: 6.366715003095156e-05\n",
      "Degrees of freedom: 2\n",
      "\n",
      "Survived  ~  Cabin\n",
      "Chi-squared: 92.8391184966289\n",
      "P-value: 1.23182785274672e-16\n",
      "Degrees of freedom: 8\n",
      "\n",
      "Survived  ~  Embarked\n",
      "Chi-squared: 24.547760057729995\n",
      "P-value: 4.672202225231174e-06\n",
      "Degrees of freedom: 2\n",
      "\n",
      "Survived  ~  Pclass\n",
      "Chi-squared: 89.72803168407883\n",
      "P-value: 3.2794837536918885e-20\n",
      "Degrees of freedom: 2\n",
      "\n",
      "Cabin  ~  Embarked\n",
      "Chi-squared: 128.0895108725087\n",
      "P-value: 1.506745029609524e-19\n",
      "Degrees of freedom: 16\n",
      "\n",
      "Cabin  ~  Pclass\n",
      "Chi-squared: 931.584253653275\n",
      "P-value: 4.903722448794014e-188\n",
      "Degrees of freedom: 16\n",
      "\n",
      "Embarked  ~  Pclass\n",
      "Chi-squared: 205.72649157662522\n",
      "P-value: 2.2055751192171006e-43\n",
      "Degrees of freedom: 4\n",
      "\n"
     ]
    }
   ],
   "source": [
    "qualitative_list = ['Sex' , 'Survived' , 'Cabin' , 'Embarked' , 'Pclass']\n",
    "\n",
    "for i in range(len(qualitative_list)):\n",
    "    for j in range(i+1, len(qualitative_list)):\n",
    "        a = qualitative_list[i]\n",
    "        b = qualitative_list[j]\n",
    "        print(a , \" ~ \" , b)\n",
    "        chi_square(a , b)\n",
    "        print()"
   ]
  },
  {
   "cell_type": "markdown",
   "id": "05220267",
   "metadata": {},
   "source": [
    "the results show that p-value for all pairwise analysis are less than 0.05. so it mean we reject null hypothesis and it means there relationship between variables."
   ]
  },
  {
   "cell_type": "markdown",
   "id": "14fb99ff",
   "metadata": {},
   "source": [
    "<hr>"
   ]
  },
  {
   "cell_type": "markdown",
   "id": "2cTtlKfzQLiS",
   "metadata": {
    "id": "2cTtlKfzQLiS"
   },
   "source": [
    "## 5 - ANOVA Test: Categorical vs. Numerical"
   ]
  },
  {
   "cell_type": "markdown",
   "id": "52eI26wQ1CHV",
   "metadata": {
    "id": "52eI26wQ1CHV"
   },
   "source": [
    "For doing this, we use anova test.\n",
    "* Null hypotheses : there is no relationship between the two variables\n",
    "* Alternative hypotheses : there is significant relationship between the two variables"
   ]
  },
  {
   "cell_type": "code",
   "execution_count": 46,
   "id": "bfda6590",
   "metadata": {
    "scrolled": true
   },
   "outputs": [
    {
     "name": "stdout",
     "output_type": "stream",
     "text": [
      " Sex ~ Age\n",
      "                 sum_sq      df         F    PR(>F)\n",
      "Sex          668.786362     1.0  4.055455  0.044234\n",
      "Residual  215043.055139  1304.0       NaN       NaN\n",
      "\n",
      "\n",
      " Sex ~ Parch\n",
      "              sum_sq      df          F        PR(>F)\n",
      "Sex        44.932317     1.0  62.693901  5.129917e-15\n",
      "Residual  934.568448  1304.0        NaN           NaN\n",
      "\n",
      "\n",
      " Sex ~ Fare\n",
      "                sum_sq      df          F        PR(>F)\n",
      "Sex       1.184396e+05     1.0  45.712906  2.060148e-11\n",
      "Residual  3.378591e+06  1304.0        NaN           NaN\n",
      "\n",
      "\n",
      " Survived ~ Age\n",
      "                 sum_sq      df         F    PR(>F)\n",
      "Survived     433.535045     1.0  2.626041  0.105365\n",
      "Residual  215278.306456  1304.0       NaN       NaN\n",
      "\n",
      "\n",
      " Survived ~ Parch\n",
      "              sum_sq      df          F    PR(>F)\n",
      "Survived   11.791271     1.0  15.888878  0.000071\n",
      "Residual  967.709494  1304.0        NaN       NaN\n",
      "\n",
      "\n",
      " Survived ~ Fare\n",
      "                sum_sq      df          F        PR(>F)\n",
      "Survived  1.886885e+05     1.0  74.372534  1.847173e-17\n",
      "Residual  3.308343e+06  1304.0        NaN           NaN\n",
      "\n",
      "\n",
      " Cabin ~ Age\n",
      "                 sum_sq      df          F        PR(>F)\n",
      "Cabin      25219.859360     8.0  21.464261  7.297820e-31\n",
      "Residual  190491.982141  1297.0        NaN           NaN\n",
      "\n",
      "\n",
      " Cabin ~ Parch\n",
      "              sum_sq      df         F    PR(>F)\n",
      "Cabin      11.437872     8.0  1.915542  0.054109\n",
      "Residual  968.062894  1297.0       NaN       NaN\n",
      "\n",
      "\n",
      " Cabin ~ Fare\n",
      "                sum_sq      df          F         PR(>F)\n",
      "Cabin     1.286470e+06     8.0  94.351143  1.523693e-123\n",
      "Residual  2.210561e+06  1297.0        NaN            NaN\n",
      "\n",
      "\n",
      " Embarked ~ Age\n",
      "                 sum_sq      df         F    PR(>F)\n",
      "Embarked    1360.143120     2.0  4.134015  0.016229\n",
      "Residual  214351.698381  1303.0       NaN       NaN\n",
      "\n",
      "\n",
      " Embarked ~ Parch\n",
      "              sum_sq      df         F    PR(>F)\n",
      "Embarked   10.724946     2.0  7.212507  0.000767\n",
      "Residual  968.775820  1303.0       NaN       NaN\n",
      "\n",
      "\n",
      " Embarked ~ Fare\n",
      "                sum_sq      df          F        PR(>F)\n",
      "Embarked  3.128911e+05     2.0  64.019975  3.014162e-27\n",
      "Residual  3.184140e+06  1303.0        NaN           NaN\n",
      "\n",
      "\n",
      " Pclass ~ Age\n",
      "                 sum_sq      df           F        PR(>F)\n",
      "Pclass     30935.737912     1.0  218.319368  8.534663e-46\n",
      "Residual  184776.103589  1304.0         NaN           NaN\n",
      "\n",
      "\n",
      " Pclass ~ Parch\n",
      "              sum_sq      df         F  PR(>F)\n",
      "Pclass      0.303286     1.0  0.403887  0.5252\n",
      "Residual  979.197479  1304.0       NaN     NaN\n",
      "\n",
      "\n",
      " Pclass ~ Fare\n",
      "                sum_sq      df           F         PR(>F)\n",
      "Pclass    1.088307e+06     1.0  589.172045  1.071555e-107\n",
      "Residual  2.408724e+06  1304.0         NaN            NaN\n",
      "\n",
      "\n"
     ]
    }
   ],
   "source": [
    "qualitative_list = ['Sex' , 'Survived' , 'Cabin' , 'Embarked' , 'Pclass']\n",
    "quantitative_list = ['Age' , 'Parch' , 'Fare']\n",
    "\n",
    "import statsmodels.api as sm\n",
    "from statsmodels.formula.api import ols\n",
    "\n",
    "for qualitative_var in qualitative_list:\n",
    "    for quantitative_var in quantitative_list:\n",
    "        # Formulate the ANOVA model formula\n",
    "        formula = f'{quantitative_var} ~ {qualitative_var}'\n",
    "\n",
    "        # Fit the ANOVA model\n",
    "        model = ols(formula, data = df).fit()\n",
    "        x = sm.stats.anova_lm(model, typ = 2)\n",
    "\n",
    "        # Print the ANOVA results\n",
    "        print(f\" {qualitative_var} ~ {quantitative_var}\")\n",
    "        print(x)\n",
    "        print()\n",
    "        print()"
   ]
  },
  {
   "cell_type": "code",
   "execution_count": null,
   "id": "fa6e3ed4",
   "metadata": {},
   "outputs": [],
   "source": []
  }
 ],
 "metadata": {
  "colab": {
   "collapsed_sections": [
    "758ed1b7-0677-4987-a091-23c8634ba616",
    "16f973d7-67db-44c9-9469-eeea0813c270",
    "gj0g0Ma8PRPr",
    "6c_6GkkuQD4y",
    "2cTtlKfzQLiS",
    "rAKvo0OU2N0G",
    "1adGy9VA2bR8",
    "hZ1ZvckO2bUg",
    "8skqc5Aa2bXc",
    "SlFoePZa2baU",
    "vXzNB_C42bdZ",
    "lrz40Yn727cv",
    "WUwVW7vy28Vx",
    "4CTnVH9M279k"
   ],
   "provenance": []
  },
  "kernelspec": {
   "display_name": "Python 3 (ipykernel)",
   "language": "python",
   "name": "python3"
  },
  "language_info": {
   "codemirror_mode": {
    "name": "ipython",
    "version": 3
   },
   "file_extension": ".py",
   "mimetype": "text/x-python",
   "name": "python",
   "nbconvert_exporter": "python",
   "pygments_lexer": "ipython3",
   "version": "3.9.13"
  }
 },
 "nbformat": 4,
 "nbformat_minor": 5
}
