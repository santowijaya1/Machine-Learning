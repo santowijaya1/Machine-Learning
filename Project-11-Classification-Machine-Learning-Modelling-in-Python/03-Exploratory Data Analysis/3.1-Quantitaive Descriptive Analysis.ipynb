{
 "cells": [
  {
   "cell_type": "markdown",
   "id": "758ed1b7-0677-4987-a091-23c8634ba616",
   "metadata": {
    "id": "758ed1b7-0677-4987-a091-23c8634ba616",
    "jp-MarkdownHeadingCollapsed": true,
    "tags": []
   },
   "source": [
    "## 1 - SetUp Environment"
   ]
  },
  {
   "cell_type": "code",
   "execution_count": 2,
   "id": "8a75bd18-4bb5-4ec9-9423-5c391efcce7c",
   "metadata": {
    "colab": {
     "base_uri": "https://localhost:8080/"
    },
    "executionInfo": {
     "elapsed": 13739,
     "status": "ok",
     "timestamp": 1680041938006,
     "user": {
      "displayName": "Mehrdad M. Dehghan",
      "userId": "08222177611817016206"
     },
     "user_tz": 240
    },
    "id": "8a75bd18-4bb5-4ec9-9423-5c391efcce7c",
    "outputId": "c88032d1-32a8-4d83-cb32-78e9f0586ca6"
   },
   "outputs": [],
   "source": [
    "import numpy as np\n",
    "import pandas as pd\n",
    "import pickle"
   ]
  },
  {
   "cell_type": "markdown",
   "id": "765dce92",
   "metadata": {},
   "source": [
    "<hr>"
   ]
  },
  {
   "cell_type": "markdown",
   "id": "16f973d7-67db-44c9-9469-eeea0813c270",
   "metadata": {
    "id": "16f973d7-67db-44c9-9469-eeea0813c270",
    "jp-MarkdownHeadingCollapsed": true,
    "tags": []
   },
   "source": [
    "## 2 - Load Dataframe"
   ]
  },
  {
   "cell_type": "code",
   "execution_count": 3,
   "id": "6fd45528-64cd-4fe7-80b3-eeaf8f05573c",
   "metadata": {
    "colab": {
     "base_uri": "https://localhost:8080/",
     "height": 187
    },
    "executionInfo": {
     "elapsed": 335,
     "status": "ok",
     "timestamp": 1680041987192,
     "user": {
      "displayName": "Mehrdad M. Dehghan",
      "userId": "08222177611817016206"
     },
     "user_tz": 240
    },
    "id": "6fd45528-64cd-4fe7-80b3-eeaf8f05573c",
    "outputId": "98ad05fc-9bdb-4e07-8772-d2d4f02b69e1",
    "scrolled": true
   },
   "outputs": [
    {
     "data": {
      "text/html": [
       "<div>\n",
       "<style scoped>\n",
       "    .dataframe tbody tr th:only-of-type {\n",
       "        vertical-align: middle;\n",
       "    }\n",
       "\n",
       "    .dataframe tbody tr th {\n",
       "        vertical-align: top;\n",
       "    }\n",
       "\n",
       "    .dataframe thead th {\n",
       "        text-align: right;\n",
       "    }\n",
       "</style>\n",
       "<table border=\"1\" class=\"dataframe\">\n",
       "  <thead>\n",
       "    <tr style=\"text-align: right;\">\n",
       "      <th></th>\n",
       "      <th>PassengerId</th>\n",
       "      <th>Name</th>\n",
       "      <th>Ticket</th>\n",
       "      <th>Age</th>\n",
       "      <th>Parch</th>\n",
       "      <th>Fare</th>\n",
       "      <th>Pclass</th>\n",
       "      <th>Sex</th>\n",
       "      <th>Cabin</th>\n",
       "      <th>Embarked</th>\n",
       "      <th>Survived</th>\n",
       "    </tr>\n",
       "  </thead>\n",
       "  <tbody>\n",
       "    <tr>\n",
       "      <th>0</th>\n",
       "      <td>1</td>\n",
       "      <td>Braund, Mr. Owen Harris</td>\n",
       "      <td>A/5 21171</td>\n",
       "      <td>22.0</td>\n",
       "      <td>0</td>\n",
       "      <td>7.2500</td>\n",
       "      <td>3</td>\n",
       "      <td>male</td>\n",
       "      <td>NaN</td>\n",
       "      <td>S</td>\n",
       "      <td>0</td>\n",
       "    </tr>\n",
       "    <tr>\n",
       "      <th>1</th>\n",
       "      <td>2</td>\n",
       "      <td>Cumings, Mrs. John Bradley (Florence Briggs Th...</td>\n",
       "      <td>PC 17599</td>\n",
       "      <td>38.0</td>\n",
       "      <td>0</td>\n",
       "      <td>71.2833</td>\n",
       "      <td>1</td>\n",
       "      <td>female</td>\n",
       "      <td>C</td>\n",
       "      <td>C</td>\n",
       "      <td>1</td>\n",
       "    </tr>\n",
       "    <tr>\n",
       "      <th>2</th>\n",
       "      <td>3</td>\n",
       "      <td>Heikkinen, Miss. Laina</td>\n",
       "      <td>STON/O2. 3101282</td>\n",
       "      <td>26.0</td>\n",
       "      <td>0</td>\n",
       "      <td>7.9250</td>\n",
       "      <td>3</td>\n",
       "      <td>female</td>\n",
       "      <td>NaN</td>\n",
       "      <td>S</td>\n",
       "      <td>1</td>\n",
       "    </tr>\n",
       "    <tr>\n",
       "      <th>3</th>\n",
       "      <td>4</td>\n",
       "      <td>Futrelle, Mrs. Jacques Heath (Lily May Peel)</td>\n",
       "      <td>113803</td>\n",
       "      <td>35.0</td>\n",
       "      <td>0</td>\n",
       "      <td>53.1000</td>\n",
       "      <td>1</td>\n",
       "      <td>female</td>\n",
       "      <td>C</td>\n",
       "      <td>S</td>\n",
       "      <td>1</td>\n",
       "    </tr>\n",
       "    <tr>\n",
       "      <th>4</th>\n",
       "      <td>5</td>\n",
       "      <td>Allen, Mr. William Henry</td>\n",
       "      <td>373450</td>\n",
       "      <td>35.0</td>\n",
       "      <td>0</td>\n",
       "      <td>8.0500</td>\n",
       "      <td>3</td>\n",
       "      <td>male</td>\n",
       "      <td>NaN</td>\n",
       "      <td>S</td>\n",
       "      <td>0</td>\n",
       "    </tr>\n",
       "  </tbody>\n",
       "</table>\n",
       "</div>"
      ],
      "text/plain": [
       "  PassengerId                                               Name  \\\n",
       "0           1                            Braund, Mr. Owen Harris   \n",
       "1           2  Cumings, Mrs. John Bradley (Florence Briggs Th...   \n",
       "2           3                             Heikkinen, Miss. Laina   \n",
       "3           4       Futrelle, Mrs. Jacques Heath (Lily May Peel)   \n",
       "4           5                           Allen, Mr. William Henry   \n",
       "\n",
       "             Ticket   Age  Parch     Fare  Pclass     Sex Cabin Embarked  \\\n",
       "0         A/5 21171  22.0      0   7.2500       3    male   NaN        S   \n",
       "1          PC 17599  38.0      0  71.2833       1  female     C        C   \n",
       "2  STON/O2. 3101282  26.0      0   7.9250       3  female   NaN        S   \n",
       "3            113803  35.0      0  53.1000       1  female     C        S   \n",
       "4            373450  35.0      0   8.0500       3    male   NaN        S   \n",
       "\n",
       "   Survived  \n",
       "0         0  \n",
       "1         1  \n",
       "2         1  \n",
       "3         1  \n",
       "4         0  "
      ]
     },
     "execution_count": 3,
     "metadata": {},
     "output_type": "execute_result"
    }
   ],
   "source": [
    "with open('../Assets/Version 1-4.pickle', 'rb') as file:\n",
    "    df = pickle.load(file)\n",
    "\n",
    "df.head()"
   ]
  },
  {
   "cell_type": "markdown",
   "id": "80a34724",
   "metadata": {},
   "source": [
    "<hr>"
   ]
  },
  {
   "cell_type": "markdown",
   "id": "a7a49537-9028-4d11-a07f-907f250b0665",
   "metadata": {
    "id": "a7a49537-9028-4d11-a07f-907f250b0665",
    "jp-MarkdownHeadingCollapsed": true,
    "tags": []
   },
   "source": [
    "## 3 - Descriptive Analysis Function"
   ]
  },
  {
   "cell_type": "markdown",
   "id": "eca3078a-3fef-4677-acfc-74433f5d9d06",
   "metadata": {
    "id": "eca3078a-3fef-4677-acfc-74433f5d9d06"
   },
   "source": [
    "in this section, we make a function in which all descriptive analysis measurments are calculated. the quantitative (numeric) variables of this dataset are:</br>\n",
    "<li> Age\n",
    "<li> Parch\n",
    "<li> Fare"
   ]
  },
  {
   "cell_type": "code",
   "execution_count": 7,
   "id": "b73b49e4-8149-454e-86d3-81992561ccc3",
   "metadata": {
    "executionInfo": {
     "elapsed": 168,
     "status": "ok",
     "timestamp": 1680041995485,
     "user": {
      "displayName": "Mehrdad M. Dehghan",
      "userId": "08222177611817016206"
     },
     "user_tz": 240
    },
    "id": "b73b49e4-8149-454e-86d3-81992561ccc3"
   },
   "outputs": [],
   "source": [
    "quantitative_list = ['Age' , 'Parch' , 'Fare']"
   ]
  },
  {
   "cell_type": "markdown",
   "id": "82a35ae1",
   "metadata": {},
   "source": [
    "now we create a function to calculate all descriptive measurements."
   ]
  },
  {
   "cell_type": "code",
   "execution_count": 16,
   "id": "6f4469c3-a4d3-4a35-9ce5-7bb902d444e6",
   "metadata": {
    "executionInfo": {
     "elapsed": 247,
     "status": "ok",
     "timestamp": 1680042010018,
     "user": {
      "displayName": "Mehrdad M. Dehghan",
      "userId": "08222177611817016206"
     },
     "user_tz": 240
    },
    "id": "6f4469c3-a4d3-4a35-9ce5-7bb902d444e6"
   },
   "outputs": [],
   "source": [
    "def quantitative_analysis(qn):\n",
    "    #central measures\n",
    "    Mean = df[qn].mean()\n",
    "    Median = df[qn].median()\n",
    "    \n",
    "    #dispersion measures - part 1\n",
    "    Range = max(df[qn]) - min(df[qn])\n",
    "    Min = df[qn].quantile(0)\n",
    "    Q1 = df[qn].quantile(0.25)\n",
    "    Q3 = df[qn].quantile(0.75)\n",
    "    IQR = Q3 - Q1\n",
    "    Max = df[qn].quantile(1)\n",
    "    \n",
    "    #dispersion measures - part 2\n",
    "    Var = df[qn].var()\n",
    "    Std = df[qn].std()\n",
    "    \n",
    "    #shape measures\n",
    "    Skewness = df[qn].skew()\n",
    "    Kurtosis = df[qn].kurt()\n",
    "    \n",
    "    qn_dict = {'Variable': [qn], \n",
    "    'Mean': [round(Mean,3)], 'Median': [round(Median,3)], \n",
    "    'Range': [round(Range,3)], 'Min': [round(Min,3)] , 'Q1': [round(Q1,7)], 'IQR': [round(IQR,7)], 'Q3': [round(Q3,3)], 'Max': [round(Max,3)],\n",
    "    'Variance': [round(Var,3)], 'St.d': [round(Std,3)],\n",
    "    'Skewness': [round(Skewness,3)] , 'Kurtosis': [round(Kurtosis,3)] }\n",
    "    \n",
    "    qn_df = pd.DataFrame(qn_dict)\n",
    "    \n",
    "    return qn_df"
   ]
  },
  {
   "cell_type": "markdown",
   "id": "c532cc61",
   "metadata": {},
   "source": [
    "<hr>"
   ]
  },
  {
   "cell_type": "markdown",
   "id": "707da017-5446-46e7-b73d-207467e8c580",
   "metadata": {
    "id": "707da017-5446-46e7-b73d-207467e8c580",
    "tags": []
   },
   "source": [
    "## 4 - Statistical Analysis"
   ]
  },
  {
   "cell_type": "markdown",
   "id": "9fb72328-164d-4244-adae-65c98c44bfa1",
   "metadata": {
    "id": "9fb72328-164d-4244-adae-65c98c44bfa1"
   },
   "source": [
    "Now, we run the funcion and find the measurements."
   ]
  },
  {
   "cell_type": "markdown",
   "id": "2d8e85d2-1a66-460d-ad34-bddd854f841a",
   "metadata": {
    "id": "2d8e85d2-1a66-460d-ad34-bddd854f841a",
    "jp-MarkdownHeadingCollapsed": true,
    "tags": []
   },
   "source": [
    ">### 4.1 - Age"
   ]
  },
  {
   "cell_type": "code",
   "execution_count": 9,
   "id": "c2b844b9-dd94-45ec-80f7-6fd73f6f2efb",
   "metadata": {
    "colab": {
     "base_uri": "https://localhost:8080/",
     "height": 80
    },
    "executionInfo": {
     "elapsed": 145,
     "status": "ok",
     "timestamp": 1680042032790,
     "user": {
      "displayName": "Mehrdad M. Dehghan",
      "userId": "08222177611817016206"
     },
     "user_tz": 240
    },
    "id": "c2b844b9-dd94-45ec-80f7-6fd73f6f2efb",
    "outputId": "c9c6b96c-d22e-46c7-beca-362fedd1c24c"
   },
   "outputs": [
    {
     "data": {
      "text/html": [
       "<div>\n",
       "<style scoped>\n",
       "    .dataframe tbody tr th:only-of-type {\n",
       "        vertical-align: middle;\n",
       "    }\n",
       "\n",
       "    .dataframe tbody tr th {\n",
       "        vertical-align: top;\n",
       "    }\n",
       "\n",
       "    .dataframe thead th {\n",
       "        text-align: right;\n",
       "    }\n",
       "</style>\n",
       "<table border=\"1\" class=\"dataframe\">\n",
       "  <thead>\n",
       "    <tr style=\"text-align: right;\">\n",
       "      <th></th>\n",
       "      <th>Variable</th>\n",
       "      <th>Mean</th>\n",
       "      <th>Median</th>\n",
       "      <th>Range</th>\n",
       "      <th>Min</th>\n",
       "      <th>Q1</th>\n",
       "      <th>IQR</th>\n",
       "      <th>Q3</th>\n",
       "      <th>Max</th>\n",
       "      <th>Variance</th>\n",
       "      <th>St.d</th>\n",
       "      <th>Skewness</th>\n",
       "      <th>Kurtosis</th>\n",
       "    </tr>\n",
       "  </thead>\n",
       "  <tbody>\n",
       "    <tr>\n",
       "      <th>0</th>\n",
       "      <td>Age</td>\n",
       "      <td>29.472</td>\n",
       "      <td>28.0</td>\n",
       "      <td>80.0</td>\n",
       "      <td>0.0</td>\n",
       "      <td>22.0</td>\n",
       "      <td>13.0</td>\n",
       "      <td>35.0</td>\n",
       "      <td>80.0</td>\n",
       "      <td>165.91</td>\n",
       "      <td>12.881</td>\n",
       "      <td>0.541</td>\n",
       "      <td>0.979</td>\n",
       "    </tr>\n",
       "  </tbody>\n",
       "</table>\n",
       "</div>"
      ],
      "text/plain": [
       "  Variable    Mean  Median  Range  Min    Q1   IQR    Q3   Max  Variance  \\\n",
       "0      Age  29.472    28.0   80.0  0.0  22.0  13.0  35.0  80.0    165.91   \n",
       "\n",
       "     St.d  Skewness  Kurtosis  \n",
       "0  12.881     0.541     0.979  "
      ]
     },
     "execution_count": 9,
     "metadata": {},
     "output_type": "execute_result"
    }
   ],
   "source": [
    "quantitative_analysis(quantitative_list[0])"
   ]
  },
  {
   "cell_type": "markdown",
   "id": "a2c2b7a9",
   "metadata": {
    "id": "cbb0da61-337a-4a4a-8ab2-44a62b356f47"
   },
   "source": [
    "<li><b>Mean</b>: <i>it means that the average age is 29.472 years.</i>\n",
    "<li><b>Median</b>: <i>it means that half of the passengers are younger than 28 years and the other half are older </i>\n",
    "<li><b>Range</b>: <i>it means that the difference between the maximum and minimum age is 80 years</i>\n",
    "<li><b>Min</b>: <i>it means that the youngest passenger is 0.0 year old</i>\n",
    "<li><b>Q1</b>: <i>it means that 25% of the passengers are younger than or equal to 22 years, and 75% are older.</i>\n",
    "<li><b>IQR</b>: <i>it mean 50% of passengers are between 22 and 35 years</i>\n",
    "<li><b>Q3</b>: <i>it means that 75% of the passengers are younger than or equal to 35, and 25% are older.</i>\n",
    "<li><b>Max</b>: <i>it means that the oldest passenger is 80 year old</i>\n",
    "<li><b>Skewness</b>: <i>it means that the distribution of the age is slightly skewed to the right of distribution.</i>"
   ]
  },
  {
   "cell_type": "markdown",
   "id": "7bd8175b-ae4d-480e-ae8b-53979f7f8c23",
   "metadata": {
    "id": "7bd8175b-ae4d-480e-ae8b-53979f7f8c23",
    "jp-MarkdownHeadingCollapsed": true,
    "tags": []
   },
   "source": [
    ">### 4.2 - Parch"
   ]
  },
  {
   "cell_type": "code",
   "execution_count": 17,
   "id": "ef594fb2-160f-479f-8eb1-723b285dbcf4",
   "metadata": {
    "colab": {
     "base_uri": "https://localhost:8080/",
     "height": 80
    },
    "executionInfo": {
     "elapsed": 132,
     "status": "ok",
     "timestamp": 1680042039673,
     "user": {
      "displayName": "Mehrdad M. Dehghan",
      "userId": "08222177611817016206"
     },
     "user_tz": 240
    },
    "id": "ef594fb2-160f-479f-8eb1-723b285dbcf4",
    "outputId": "c2e3bc9e-6962-4ddd-fd32-9807594ec245"
   },
   "outputs": [
    {
     "data": {
      "text/html": [
       "<div>\n",
       "<style scoped>\n",
       "    .dataframe tbody tr th:only-of-type {\n",
       "        vertical-align: middle;\n",
       "    }\n",
       "\n",
       "    .dataframe tbody tr th {\n",
       "        vertical-align: top;\n",
       "    }\n",
       "\n",
       "    .dataframe thead th {\n",
       "        text-align: right;\n",
       "    }\n",
       "</style>\n",
       "<table border=\"1\" class=\"dataframe\">\n",
       "  <thead>\n",
       "    <tr style=\"text-align: right;\">\n",
       "      <th></th>\n",
       "      <th>Variable</th>\n",
       "      <th>Mean</th>\n",
       "      <th>Median</th>\n",
       "      <th>Range</th>\n",
       "      <th>Min</th>\n",
       "      <th>Q1</th>\n",
       "      <th>IQR</th>\n",
       "      <th>Q3</th>\n",
       "      <th>Max</th>\n",
       "      <th>Variance</th>\n",
       "      <th>St.d</th>\n",
       "      <th>Skewness</th>\n",
       "      <th>Kurtosis</th>\n",
       "    </tr>\n",
       "  </thead>\n",
       "  <tbody>\n",
       "    <tr>\n",
       "      <th>0</th>\n",
       "      <td>Parch</td>\n",
       "      <td>0.385</td>\n",
       "      <td>0.0</td>\n",
       "      <td>9</td>\n",
       "      <td>0.0</td>\n",
       "      <td>0.0</td>\n",
       "      <td>0.0</td>\n",
       "      <td>0.0</td>\n",
       "      <td>9.0</td>\n",
       "      <td>0.75</td>\n",
       "      <td>0.866</td>\n",
       "      <td>3.668</td>\n",
       "      <td>21.525</td>\n",
       "    </tr>\n",
       "  </tbody>\n",
       "</table>\n",
       "</div>"
      ],
      "text/plain": [
       "  Variable   Mean  Median  Range  Min   Q1  IQR   Q3  Max  Variance   St.d  \\\n",
       "0    Parch  0.385     0.0      9  0.0  0.0  0.0  0.0  9.0      0.75  0.866   \n",
       "\n",
       "   Skewness  Kurtosis  \n",
       "0     3.668    21.525  "
      ]
     },
     "execution_count": 17,
     "metadata": {},
     "output_type": "execute_result"
    }
   ],
   "source": [
    "quantitative_analysis(quantitative_list[1])"
   ]
  },
  {
   "cell_type": "markdown",
   "id": "d9d2f9fc",
   "metadata": {
    "id": "34943678-2ecc-4e78-9944-952d149e0c4e"
   },
   "source": [
    "<li><b>Mean</b>: <i>it means that the average family size is 0.385 people.</i>\n",
    "<li><b>Median</b>: <i>it means that half of the family have 0 people and the other half have more .</i>\n",
    "<li><b>Range</b>: <i>it means that the difference between the maximum and minimum family size is 9 people</i>\n",
    "<li><b>Min</b>: <i>it means that the smallest family size is 0.0 people.</i>\n",
    "<li><b>Q1</b>: <i>it means that 25% of the families have 0 size, and 75% have more</i>\n",
    "<li><b>IQR</b>: <i>it mean 50% of families have size around 0</i>\n",
    "<li><b>Q3</b>: <i>it means that 75% of the families have 0 size, and 25% have more</i>\n",
    "<li><b>Max</b>: <i>it means that the biggest family size is 9 people.</i>\n",
    "<li><b>Skewness</b>: <i>it means that the distribution of the Parch (family size) is significantly skewed to the right of distribution.</i>"
   ]
  },
  {
   "cell_type": "markdown",
   "id": "64ca3f79-0d89-49ee-b946-deed7b973f25",
   "metadata": {
    "id": "64ca3f79-0d89-49ee-b946-deed7b973f25",
    "jp-MarkdownHeadingCollapsed": true,
    "tags": []
   },
   "source": [
    ">### 4.3 - Fare"
   ]
  },
  {
   "cell_type": "code",
   "execution_count": 11,
   "id": "9275afc3-482c-4b0f-9717-76666c176531",
   "metadata": {
    "colab": {
     "base_uri": "https://localhost:8080/",
     "height": 80
    },
    "executionInfo": {
     "elapsed": 139,
     "status": "ok",
     "timestamp": 1680042042178,
     "user": {
      "displayName": "Mehrdad M. Dehghan",
      "userId": "08222177611817016206"
     },
     "user_tz": 240
    },
    "id": "9275afc3-482c-4b0f-9717-76666c176531",
    "outputId": "d98f5fb7-380e-468b-aa42-2960aa22df2a"
   },
   "outputs": [
    {
     "data": {
      "text/html": [
       "<div>\n",
       "<style scoped>\n",
       "    .dataframe tbody tr th:only-of-type {\n",
       "        vertical-align: middle;\n",
       "    }\n",
       "\n",
       "    .dataframe tbody tr th {\n",
       "        vertical-align: top;\n",
       "    }\n",
       "\n",
       "    .dataframe thead th {\n",
       "        text-align: right;\n",
       "    }\n",
       "</style>\n",
       "<table border=\"1\" class=\"dataframe\">\n",
       "  <thead>\n",
       "    <tr style=\"text-align: right;\">\n",
       "      <th></th>\n",
       "      <th>Variable</th>\n",
       "      <th>Mean</th>\n",
       "      <th>Median</th>\n",
       "      <th>Range</th>\n",
       "      <th>Min</th>\n",
       "      <th>Q1</th>\n",
       "      <th>IQR</th>\n",
       "      <th>Q3</th>\n",
       "      <th>Max</th>\n",
       "      <th>Variance</th>\n",
       "      <th>St.d</th>\n",
       "      <th>Skewness</th>\n",
       "      <th>Kurtosis</th>\n",
       "    </tr>\n",
       "  </thead>\n",
       "  <tbody>\n",
       "    <tr>\n",
       "      <th>0</th>\n",
       "      <td>Fare</td>\n",
       "      <td>33.295</td>\n",
       "      <td>14.454</td>\n",
       "      <td>512.329</td>\n",
       "      <td>0.0</td>\n",
       "      <td>7.896</td>\n",
       "      <td>23.379</td>\n",
       "      <td>31.275</td>\n",
       "      <td>512.329</td>\n",
       "      <td>2678.96</td>\n",
       "      <td>51.759</td>\n",
       "      <td>4.368</td>\n",
       "      <td>27.028</td>\n",
       "    </tr>\n",
       "  </tbody>\n",
       "</table>\n",
       "</div>"
      ],
      "text/plain": [
       "  Variable    Mean  Median    Range  Min     Q1     IQR      Q3      Max  \\\n",
       "0     Fare  33.295  14.454  512.329  0.0  7.896  23.379  31.275  512.329   \n",
       "\n",
       "   Variance    St.d  Skewness  Kurtosis  \n",
       "0   2678.96  51.759     4.368    27.028  "
      ]
     },
     "execution_count": 11,
     "metadata": {},
     "output_type": "execute_result"
    }
   ],
   "source": [
    "quantitative_analysis(quantitative_list[2])"
   ]
  },
  {
   "cell_type": "markdown",
   "id": "37f0f2f8",
   "metadata": {
    "id": "80543846-7b33-4ecc-9bc8-6f585658b6d7"
   },
   "source": [
    "<li><b>Mean</b>: <i>it means that the average fare is 33.295 dollars.</i>\n",
    "<li><b>Median</b>: <i>it means that half of the passengers paid less than 14.454 and the other half paid more</i>\n",
    "<li><b>Range</b>: <i>it means that the difference between the maximum and minimum fare is 512.329 dollars</i>\n",
    "<li><b>Min</b>: <i>it means that the lowest fare is 0 dollars</i>\n",
    "<li><b>Q1</b>: <i>it means that 25% of the passengers paid less than or equal to 7.896 dollars, and 75% paid more</i>\n",
    "<li><b>IQR</b>: <i>it mean 50% of passengers paid between 7.896 and 31.275 dollars</i>\n",
    "<li><b>Q3</b>: <i>it means that 75% of the passengers paid less than or equal to 31.275 dollars, and 25% paid more</i>\n",
    "<li><b>Max</b>: <i>it means that the highest fare is 512.329 dollars</i>\n",
    "<li><b>Skewness</b>: <i>it means that the distribution of fair is cosiderably skewed to the right.</i>"
   ]
  },
  {
   "cell_type": "markdown",
   "id": "899cdddb",
   "metadata": {},
   "source": [
    "<hr>"
   ]
  },
  {
   "cell_type": "markdown",
   "id": "0eac5c21-a0a4-4da3-98cb-079c65511ac1",
   "metadata": {
    "id": "0eac5c21-a0a4-4da3-98cb-079c65511ac1",
    "jp-MarkdownHeadingCollapsed": true,
    "tags": []
   },
   "source": [
    "## 5 - Ditribution"
   ]
  },
  {
   "cell_type": "markdown",
   "id": "d425fa45-9fc1-4a76-97c3-503c803f6ae1",
   "metadata": {
    "id": "d425fa45-9fc1-4a76-97c3-503c803f6ae1"
   },
   "source": [
    "first we create a funcion to draw density plot"
   ]
  },
  {
   "cell_type": "code",
   "execution_count": 12,
   "id": "be2ff98d-99c3-47ce-a71c-be1be5da9cf5",
   "metadata": {
    "executionInfo": {
     "elapsed": 127,
     "status": "ok",
     "timestamp": 1680042083685,
     "user": {
      "displayName": "Mehrdad M. Dehghan",
      "userId": "08222177611817016206"
     },
     "user_tz": 240
    },
    "id": "be2ff98d-99c3-47ce-a71c-be1be5da9cf5"
   },
   "outputs": [],
   "source": [
    "def kde_plot(x):\n",
    "    import seaborn as sns\n",
    "    import matplotlib.pyplot as plt\n",
    "    \n",
    "    plt.figure(figsize = (8,3))\n",
    "    sns.distplot(df[x], kde_kws={\"lw\": 5}, hist_kws = {'alpha': 0.25})\n",
    "    sns.despine(left = True)\n",
    "    \n",
    "    mean_age = df[x].mean()\n",
    "    median_age = df[x].median()\n",
    "    \n",
    "    plt.axvline(mean_age, color ='black', linestyle ='dashed')\n",
    "    plt.axvline(median_age, color ='green', linestyle ='solid')\n",
    "    plt.xlabel('')\n",
    "    plt.ylabel('')\n",
    "    \n",
    "    return plt.show()"
   ]
  },
  {
   "cell_type": "markdown",
   "id": "e1a72f55-b89b-4c9f-9b6c-7d51479735ca",
   "metadata": {
    "id": "e1a72f55-b89b-4c9f-9b6c-7d51479735ca",
    "jp-MarkdownHeadingCollapsed": true,
    "tags": []
   },
   "source": [
    ">### 5.1 - Age"
   ]
  },
  {
   "cell_type": "code",
   "execution_count": 13,
   "id": "06164fde-6dd7-4fb0-a46a-49d37ef3a233",
   "metadata": {
    "colab": {
     "base_uri": "https://localhost:8080/",
     "height": 411
    },
    "executionInfo": {
     "elapsed": 1622,
     "status": "ok",
     "timestamp": 1680042087738,
     "user": {
      "displayName": "Mehrdad M. Dehghan",
      "userId": "08222177611817016206"
     },
     "user_tz": 240
    },
    "id": "06164fde-6dd7-4fb0-a46a-49d37ef3a233",
    "outputId": "eaf057b8-2012-4194-e8c3-b70c1e6aa39f"
   },
   "outputs": [
    {
     "name": "stderr",
     "output_type": "stream",
     "text": [
      "C:\\Users\\Mehrdad\\anaconda3\\lib\\site-packages\\seaborn\\distributions.py:2619: FutureWarning: `distplot` is a deprecated function and will be removed in a future version. Please adapt your code to use either `displot` (a figure-level function with similar flexibility) or `histplot` (an axes-level function for histograms).\n",
      "  warnings.warn(msg, FutureWarning)\n"
     ]
    },
    {
     "data": {
      "image/png": "[encoded data removed]",
      "text/plain": [
       "<Figure size 800x300 with 1 Axes>"
      ]
     },
     "metadata": {},
     "output_type": "display_data"
    }
   ],
   "source": [
    "kde_plot(quantitative_list[0])"
   ]
  },
  {
   "cell_type": "markdown",
   "id": "c36c0712",
   "metadata": {
    "id": "bce6330d-b394-4040-8484-403423527238"
   },
   "source": [
    "<li> The <b> \"Age\" </b> is in ranging from 0 (min) to 80 (max) and mean is 29.472 (dahsed line) and median is 28 (red line).\n",
    "<li> since median is less that mean, we have right-skewed distribution (skewness is 0.541). However, we can consider it as normal distribution.\n",
    "<li>The y-axis in this plot would represent the probability density of the scores at each point along the x-axis. It means the total probability of observing a score within the range of 0 (min) to 80 (max) is 1.\n",
    "<li>The peak of the KDE plot is near 0.05 on the y-axis, it means that the estimated probability density is highest at that point. "
   ]
  },
  {
   "cell_type": "markdown",
   "id": "9418b848-c243-4049-ba99-36cc566fb036",
   "metadata": {
    "id": "9418b848-c243-4049-ba99-36cc566fb036",
    "jp-MarkdownHeadingCollapsed": true,
    "tags": []
   },
   "source": [
    ">### 5.2 - Parch"
   ]
  },
  {
   "cell_type": "code",
   "execution_count": 14,
   "id": "9373a499-4f91-45ca-8a1e-d35666483fce",
   "metadata": {
    "colab": {
     "base_uri": "https://localhost:8080/",
     "height": 434
    },
    "executionInfo": {
     "elapsed": 391,
     "status": "ok",
     "timestamp": 1680042094510,
     "user": {
      "displayName": "Mehrdad M. Dehghan",
      "userId": "08222177611817016206"
     },
     "user_tz": 240
    },
    "id": "9373a499-4f91-45ca-8a1e-d35666483fce",
    "outputId": "014fc4a7-1f62-4f31-ec35-3994c10d6c9a"
   },
   "outputs": [
    {
     "name": "stderr",
     "output_type": "stream",
     "text": [
      "C:\\Users\\Mehrdad\\anaconda3\\lib\\site-packages\\seaborn\\distributions.py:2619: FutureWarning: `distplot` is a deprecated function and will be removed in a future version. Please adapt your code to use either `displot` (a figure-level function with similar flexibility) or `histplot` (an axes-level function for histograms).\n",
      "  warnings.warn(msg, FutureWarning)\n"
     ]
    },
    {
     "data": {
      "image/png": "[encoded data removed]",
      "text/plain": [
       "<Figure size 800x300 with 1 Axes>"
      ]
     },
     "metadata": {},
     "output_type": "display_data"
    }
   ],
   "source": [
    "kde_plot(quantitative_list[1])"
   ]
  },
  {
   "cell_type": "markdown",
   "id": "8b2d11c0",
   "metadata": {
    "id": "6a62c4e5-cc5c-4335-ab8f-dad2244ba126"
   },
   "source": [
    "<li> The <b> \"Parch\" </b> is in ranging from 0 (min) to 9 (max) and mean is 0.385 (dahsed line) and median is 0 (red line).\n",
    "<li> since median is less than mean., we have right-skewed distribution (skewness is 3.668).\n",
    "<li>The y-axis in this plot would represent the probability density of the scores at each point along the x-axis. It means the total probability of observing a score within the range of 0 (min) to 9 (max) is 1.\n",
    "<li>The peak of the KDE plot is near 1.5 on the y-axis, it means that the estimated probability density is highest at that point. "
   ]
  },
  {
   "cell_type": "markdown",
   "id": "0213ec76-dd9a-44b1-a27b-c4e277b96f35",
   "metadata": {
    "id": "0213ec76-dd9a-44b1-a27b-c4e277b96f35",
    "jp-MarkdownHeadingCollapsed": true,
    "tags": []
   },
   "source": [
    ">### 5.3 - Fare"
   ]
  },
  {
   "cell_type": "code",
   "execution_count": 15,
   "id": "eb55fe3f-b449-42e6-904c-e4710220c5a2",
   "metadata": {
    "colab": {
     "base_uri": "https://localhost:8080/",
     "height": 410
    },
    "executionInfo": {
     "elapsed": 420,
     "status": "ok",
     "timestamp": 1680042098014,
     "user": {
      "displayName": "Mehrdad M. Dehghan",
      "userId": "08222177611817016206"
     },
     "user_tz": 240
    },
    "id": "eb55fe3f-b449-42e6-904c-e4710220c5a2",
    "outputId": "dd57f1b1-2ec3-4460-e025-1098f04ed2b1"
   },
   "outputs": [
    {
     "name": "stderr",
     "output_type": "stream",
     "text": [
      "C:\\Users\\Mehrdad\\anaconda3\\lib\\site-packages\\seaborn\\distributions.py:2619: FutureWarning: `distplot` is a deprecated function and will be removed in a future version. Please adapt your code to use either `displot` (a figure-level function with similar flexibility) or `histplot` (an axes-level function for histograms).\n",
      "  warnings.warn(msg, FutureWarning)\n"
     ]
    },
    {
     "data": {
      "image/png": "[encoded data removed]",
      "text/plain": [
       "<Figure size 800x300 with 1 Axes>"
      ]
     },
     "metadata": {},
     "output_type": "display_data"
    }
   ],
   "source": [
    "kde_plot(quantitative_list[2])"
   ]
  },
  {
   "cell_type": "markdown",
   "id": "50a0ff6f",
   "metadata": {
    "id": "2fc54baf-dd5e-4d5d-b254-c363dd70c4f2"
   },
   "source": [
    "<li> The <b> \"Fare\" </b> is in ranging from 0 (min) to 512.329 (max) and mean is 33.295 (dahsed line) and median is 14.454 (red line).\n",
    "<li> since median is less than mean, we have right-skewed distribution (skewness is 4.368).\n",
    "<li>The y-axis in this plot would represent the probability density of the scores at each point along the x-axis. It means the total probability of observing a score within the range of 0 (min) to 512.329 (max) is 1.\n",
    "<li>The peak of the KDE plot is near 0.021 on the y-axis, it means that the estimated probability density is highest at that point. "
   ]
  }
 ],
 "metadata": {
  "colab": {
   "provenance": []
  },
  "kernelspec": {
   "display_name": "Python 3 (ipykernel)",
   "language": "python",
   "name": "python3"
  },
  "language_info": {
   "codemirror_mode": {
    "name": "ipython",
    "version": 3
   },
   "file_extension": ".py",
   "mimetype": "text/x-python",
   "name": "python",
   "nbconvert_exporter": "python",
   "pygments_lexer": "ipython3",
   "version": "3.9.13"
  }
 },
 "nbformat": 4,
 "nbformat_minor": 5
}
