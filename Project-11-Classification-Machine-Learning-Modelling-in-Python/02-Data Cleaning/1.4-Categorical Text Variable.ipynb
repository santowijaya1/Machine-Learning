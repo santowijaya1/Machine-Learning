{
 "cells": [
  {
   "cell_type": "markdown",
   "id": "758ed1b7-0677-4987-a091-23c8634ba616",
   "metadata": {
    "id": "758ed1b7-0677-4987-a091-23c8634ba616",
    "tags": []
   },
   "source": [
    "## 1 - SetUp Environment"
   ]
  },
  {
   "cell_type": "code",
   "execution_count": 1,
   "id": "8a75bd18-4bb5-4ec9-9423-5c391efcce7c",
   "metadata": {
    "colab": {
     "base_uri": "https://localhost:8080/"
    },
    "executionInfo": {
     "elapsed": 16090,
     "status": "ok",
     "timestamp": 1680039944506,
     "user": {
      "displayName": "Mehrdad M. Dehghan",
      "userId": "08222177611817016206"
     },
     "user_tz": 240
    },
    "id": "8a75bd18-4bb5-4ec9-9423-5c391efcce7c",
    "outputId": "f5a60693-5481-4bbb-a64d-634d9bf8e840"
   },
   "outputs": [],
   "source": [
    "import numpy as np\n",
    "import pandas as pd\n",
    "import pickle"
   ]
  },
  {
   "cell_type": "markdown",
   "id": "64a0e375",
   "metadata": {},
   "source": [
    "<hr>"
   ]
  },
  {
   "cell_type": "markdown",
   "id": "16f973d7-67db-44c9-9469-eeea0813c270",
   "metadata": {
    "id": "16f973d7-67db-44c9-9469-eeea0813c270",
    "tags": []
   },
   "source": [
    "## 2 - Load Dataframe"
   ]
  },
  {
   "cell_type": "code",
   "execution_count": 2,
   "id": "6fd45528-64cd-4fe7-80b3-eeaf8f05573c",
   "metadata": {
    "colab": {
     "base_uri": "https://localhost:8080/",
     "height": 143
    },
    "executionInfo": {
     "elapsed": 333,
     "status": "ok",
     "timestamp": 1680039961316,
     "user": {
      "displayName": "Mehrdad M. Dehghan",
      "userId": "08222177611817016206"
     },
     "user_tz": 240
    },
    "id": "6fd45528-64cd-4fe7-80b3-eeaf8f05573c",
    "outputId": "5d5ce715-f73b-45f0-9641-388c64486615",
    "scrolled": true
   },
   "outputs": [
    {
     "data": {
      "text/html": [
       "<div>\n",
       "<style scoped>\n",
       "    .dataframe tbody tr th:only-of-type {\n",
       "        vertical-align: middle;\n",
       "    }\n",
       "\n",
       "    .dataframe tbody tr th {\n",
       "        vertical-align: top;\n",
       "    }\n",
       "\n",
       "    .dataframe thead th {\n",
       "        text-align: right;\n",
       "    }\n",
       "</style>\n",
       "<table border=\"1\" class=\"dataframe\">\n",
       "  <thead>\n",
       "    <tr style=\"text-align: right;\">\n",
       "      <th></th>\n",
       "      <th>PassengerId</th>\n",
       "      <th>Name</th>\n",
       "      <th>Ticket</th>\n",
       "      <th>Age</th>\n",
       "      <th>Parch</th>\n",
       "      <th>Fare</th>\n",
       "      <th>Pclass</th>\n",
       "      <th>Sex</th>\n",
       "      <th>Cabin</th>\n",
       "      <th>Embarked</th>\n",
       "      <th>Survived</th>\n",
       "    </tr>\n",
       "  </thead>\n",
       "  <tbody>\n",
       "    <tr>\n",
       "      <th>0</th>\n",
       "      <td>1</td>\n",
       "      <td>Braund, Mr. Owen Harris</td>\n",
       "      <td>A/5 21171</td>\n",
       "      <td>22.0</td>\n",
       "      <td>0</td>\n",
       "      <td>7.2500</td>\n",
       "      <td>3</td>\n",
       "      <td>male</td>\n",
       "      <td>NaN</td>\n",
       "      <td>S</td>\n",
       "      <td>0</td>\n",
       "    </tr>\n",
       "    <tr>\n",
       "      <th>1</th>\n",
       "      <td>2</td>\n",
       "      <td>Cumings, Mrs. John Bradley (Florence Briggs Th...</td>\n",
       "      <td>PC 17599</td>\n",
       "      <td>38.0</td>\n",
       "      <td>0</td>\n",
       "      <td>71.2833</td>\n",
       "      <td>1</td>\n",
       "      <td>female</td>\n",
       "      <td>C85</td>\n",
       "      <td>C</td>\n",
       "      <td>1</td>\n",
       "    </tr>\n",
       "    <tr>\n",
       "      <th>2</th>\n",
       "      <td>3</td>\n",
       "      <td>Heikkinen, Miss. Laina</td>\n",
       "      <td>STON/O2. 3101282</td>\n",
       "      <td>26.0</td>\n",
       "      <td>0</td>\n",
       "      <td>7.9250</td>\n",
       "      <td>3</td>\n",
       "      <td>female</td>\n",
       "      <td>NaN</td>\n",
       "      <td>S</td>\n",
       "      <td>1</td>\n",
       "    </tr>\n",
       "    <tr>\n",
       "      <th>3</th>\n",
       "      <td>4</td>\n",
       "      <td>Futrelle, Mrs. Jacques Heath (Lily May Peel)</td>\n",
       "      <td>113803</td>\n",
       "      <td>35.0</td>\n",
       "      <td>0</td>\n",
       "      <td>53.1000</td>\n",
       "      <td>1</td>\n",
       "      <td>female</td>\n",
       "      <td>C123</td>\n",
       "      <td>S</td>\n",
       "      <td>1</td>\n",
       "    </tr>\n",
       "    <tr>\n",
       "      <th>4</th>\n",
       "      <td>5</td>\n",
       "      <td>Allen, Mr. William Henry</td>\n",
       "      <td>373450</td>\n",
       "      <td>35.0</td>\n",
       "      <td>0</td>\n",
       "      <td>8.0500</td>\n",
       "      <td>3</td>\n",
       "      <td>male</td>\n",
       "      <td>NaN</td>\n",
       "      <td>S</td>\n",
       "      <td>0</td>\n",
       "    </tr>\n",
       "  </tbody>\n",
       "</table>\n",
       "</div>"
      ],
      "text/plain": [
       "   PassengerId                                               Name  \\\n",
       "0            1                            Braund, Mr. Owen Harris   \n",
       "1            2  Cumings, Mrs. John Bradley (Florence Briggs Th...   \n",
       "2            3                             Heikkinen, Miss. Laina   \n",
       "3            4       Futrelle, Mrs. Jacques Heath (Lily May Peel)   \n",
       "4            5                           Allen, Mr. William Henry   \n",
       "\n",
       "             Ticket   Age  Parch     Fare  Pclass     Sex Cabin Embarked  \\\n",
       "0         A/5 21171  22.0      0   7.2500       3    male   NaN        S   \n",
       "1          PC 17599  38.0      0  71.2833       1  female   C85        C   \n",
       "2  STON/O2. 3101282  26.0      0   7.9250       3  female   NaN        S   \n",
       "3            113803  35.0      0  53.1000       1  female  C123        S   \n",
       "4            373450  35.0      0   8.0500       3    male   NaN        S   \n",
       "\n",
       "   Survived  \n",
       "0         0  \n",
       "1         1  \n",
       "2         1  \n",
       "3         1  \n",
       "4         0  "
      ]
     },
     "execution_count": 2,
     "metadata": {},
     "output_type": "execute_result"
    }
   ],
   "source": [
    "with open('../Assets/Version 1-3.pickle', 'rb') as file:\n",
    "    df = pickle.load(file)\n",
    "\n",
    "df.head()"
   ]
  },
  {
   "cell_type": "markdown",
   "id": "5e52647c",
   "metadata": {},
   "source": [
    "<hr>"
   ]
  },
  {
   "cell_type": "markdown",
   "id": "02efccfa-3266-47fc-82da-235ab6cb45fe",
   "metadata": {
    "id": "02efccfa-3266-47fc-82da-235ab6cb45fe",
    "tags": []
   },
   "source": [
    "## 3 - Declare Variable"
   ]
  },
  {
   "cell_type": "markdown",
   "id": "5f0e918f-cabd-475d-bff3-7a43054e2f52",
   "metadata": {
    "id": "5f0e918f-cabd-475d-bff3-7a43054e2f52"
   },
   "source": [
    "In this section, I work on just text categorical variables</br>\n",
    "<li> Sex\n",
    "<li> Cabin\n",
    "<li> Embarked"
   ]
  },
  {
   "cell_type": "code",
   "execution_count": 3,
   "id": "2d7ad439-0cad-4034-90bb-7a9cab072755",
   "metadata": {
    "executionInfo": {
     "elapsed": 91,
     "status": "ok",
     "timestamp": 1680039965038,
     "user": {
      "displayName": "Mehrdad M. Dehghan",
      "userId": "08222177611817016206"
     },
     "user_tz": 240
    },
    "id": "2d7ad439-0cad-4034-90bb-7a9cab072755"
   },
   "outputs": [],
   "source": [
    "CatTxt_list = ['Sex' , 'Cabin', 'Embarked']"
   ]
  },
  {
   "cell_type": "markdown",
   "id": "23ed11ac",
   "metadata": {},
   "source": [
    "<hr>"
   ]
  },
  {
   "cell_type": "markdown",
   "id": "8a88309e-b075-4312-8c29-ee0d896b70da",
   "metadata": {
    "id": "8a88309e-b075-4312-8c29-ee0d896b70da",
    "jp-MarkdownHeadingCollapsed": true,
    "tags": []
   },
   "source": [
    "## 4 - Handle Null Values"
   ]
  },
  {
   "cell_type": "markdown",
   "id": "97a594ad-62e2-42ea-b49e-2acbfadaa1db",
   "metadata": {
    "id": "97a594ad-62e2-42ea-b49e-2acbfadaa1db"
   },
   "source": [
    "First we must make sure whether we have null values in these variables or not."
   ]
  },
  {
   "cell_type": "code",
   "execution_count": 4,
   "id": "8bfbd9eb-1017-4735-bdb7-744d010e8b5b",
   "metadata": {
    "executionInfo": {
     "elapsed": 125,
     "status": "ok",
     "timestamp": 1680039980488,
     "user": {
      "displayName": "Mehrdad M. Dehghan",
      "userId": "08222177611817016206"
     },
     "user_tz": 240
    },
    "id": "8bfbd9eb-1017-4735-bdb7-744d010e8b5b"
   },
   "outputs": [],
   "source": [
    "def null_checker():\n",
    "    for i in range(len(CatTxt_list)):\n",
    "        print(CatTxt_list[i] , ':' , df.loc[df[CatTxt_list[i]].isnull()].index)"
   ]
  },
  {
   "cell_type": "markdown",
   "id": "e577fa1d-e388-46dd-afb6-2048645c6bde",
   "metadata": {
    "id": "e577fa1d-e388-46dd-afb6-2048645c6bde"
   },
   "source": [
    "Then we run the function:"
   ]
  },
  {
   "cell_type": "code",
   "execution_count": 5,
   "id": "5b4ad260-d490-4437-b88e-96dd5c2b0a3d",
   "metadata": {
    "colab": {
     "base_uri": "https://localhost:8080/"
    },
    "executionInfo": {
     "elapsed": 108,
     "status": "ok",
     "timestamp": 1680039986617,
     "user": {
      "displayName": "Mehrdad M. Dehghan",
      "userId": "08222177611817016206"
     },
     "user_tz": 240
    },
    "id": "5b4ad260-d490-4437-b88e-96dd5c2b0a3d",
    "outputId": "34d8c93e-8500-4c12-83e2-cb8945cab919"
   },
   "outputs": [
    {
     "name": "stdout",
     "output_type": "stream",
     "text": [
      "Sex : Int64Index([], dtype='int64')\n",
      "Cabin : Int64Index([   0,    2,    4,    5,    7,    8,    9,   12,   13,   14,\n",
      "            ...\n",
      "            1294, 1297, 1299, 1300, 1301, 1303, 1304, 1306, 1307, 1308],\n",
      "           dtype='int64', length=1013)\n",
      "Embarked : Int64Index([61, 829], dtype='int64')\n"
     ]
    }
   ],
   "source": [
    "null_checker()"
   ]
  },
  {
   "cell_type": "markdown",
   "id": "5676b998",
   "metadata": {},
   "source": [
    "the result shows we have null values in <b>\"Cabin\" , \"Embarked\"</b>.first we should make sure whether the number of missing values of each variable, are less then 5% of whole data or more."
   ]
  },
  {
   "cell_type": "code",
   "execution_count": 6,
   "id": "cdeeb68c",
   "metadata": {},
   "outputs": [
    {
     "name": "stdout",
     "output_type": "stream",
     "text": [
      "Sex : 0.0 %\n",
      "Cabin : 77.446 %\n",
      "Embarked : 0.153 %\n"
     ]
    }
   ],
   "source": [
    "for i in range(len(CatTxt_list)):\n",
    "    count_nan = df[CatTxt_list[i]].isna().sum()\n",
    "    print(CatTxt_list[i] , ':' , round((count_nan / df.shape[0]) * 100, 3) , '%')"
   ]
  },
  {
   "cell_type": "markdown",
   "id": "53289da6",
   "metadata": {},
   "source": [
    ">### 4.1 - Drop Null"
   ]
  },
  {
   "cell_type": "markdown",
   "id": "50d1f059",
   "metadata": {},
   "source": [
    "Since the percentage of <b>\"Embarked\"</b> is less than 5%, we can drop null value"
   ]
  },
  {
   "cell_type": "code",
   "execution_count": 7,
   "id": "f7fe9192",
   "metadata": {},
   "outputs": [
    {
     "name": "stdout",
     "output_type": "stream",
     "text": [
      "the dimension before removing null:  (1308, 11)\n",
      "the dimension after removing null:  (1306, 11)\n"
     ]
    }
   ],
   "source": [
    "print(\"the dimension before removing null: \" , df.shape)\n",
    "df = df.dropna(subset=['Embarked'])\n",
    "print(\"the dimension after removing null: \" , df.shape)"
   ]
  },
  {
   "cell_type": "markdown",
   "id": "81468f6d",
   "metadata": {},
   "source": [
    "now again we can check the statuse of null values:"
   ]
  },
  {
   "cell_type": "code",
   "execution_count": 8,
   "id": "a185dae2",
   "metadata": {},
   "outputs": [
    {
     "name": "stdout",
     "output_type": "stream",
     "text": [
      "Sex : Int64Index([], dtype='int64')\n",
      "Cabin : Int64Index([   0,    2,    4,    5,    7,    8,    9,   12,   13,   14,\n",
      "            ...\n",
      "            1294, 1297, 1299, 1300, 1301, 1303, 1304, 1306, 1307, 1308],\n",
      "           dtype='int64', length=1013)\n",
      "Embarked : Int64Index([], dtype='int64')\n"
     ]
    }
   ],
   "source": [
    "null_checker()"
   ]
  },
  {
   "cell_type": "markdown",
   "id": "f544a516",
   "metadata": {},
   "source": [
    ">### 4.2 - Impute Null"
   ]
  },
  {
   "cell_type": "markdown",
   "id": "3f86c624",
   "metadata": {},
   "source": [
    "Since the percentage of <b>\"Cabin\"</b> is more than 5%, we should impute it. for doing this, because the percentage of null value is too high, we can convert all null to a specific category"
   ]
  },
  {
   "cell_type": "code",
   "execution_count": 9,
   "id": "9cc4d49a",
   "metadata": {},
   "outputs": [],
   "source": [
    "df['Cabin'].fillna('Unknown', inplace=True)"
   ]
  },
  {
   "cell_type": "markdown",
   "id": "5a483b07",
   "metadata": {},
   "source": [
    "now we can check null function again:"
   ]
  },
  {
   "cell_type": "code",
   "execution_count": 11,
   "id": "7a9e90c2",
   "metadata": {},
   "outputs": [
    {
     "name": "stdout",
     "output_type": "stream",
     "text": [
      "Sex : Int64Index([], dtype='int64')\n",
      "Cabin : Int64Index([], dtype='int64')\n",
      "Embarked : Int64Index([], dtype='int64')\n"
     ]
    }
   ],
   "source": [
    "null_checker()"
   ]
  },
  {
   "cell_type": "markdown",
   "id": "b25fe29d",
   "metadata": {},
   "source": [
    "<hr>"
   ]
  },
  {
   "cell_type": "markdown",
   "id": "60c312be-9f72-4f5a-bc01-2047f7af13ff",
   "metadata": {
    "id": "60c312be-9f72-4f5a-bc01-2047f7af13ff"
   },
   "source": [
    "## 6 - Possible Range"
   ]
  },
  {
   "cell_type": "markdown",
   "id": "be25ec0e-e54f-4938-afd6-1f4e03c5c28a",
   "metadata": {
    "id": "be25ec0e-e54f-4938-afd6-1f4e03c5c28a"
   },
   "source": [
    "according to data document, those variables just can contain these value:</br>\n",
    "<li> <b>Sex:</b> <i> Male , Female</i>\n",
    "<li> <b>Cabin:</b> <i>A , B , C , D , E , F , G , T</i>\n",
    "<li> <b>Embarked:</b> <i> C:Cherbourg, Q:Queenstown, S:Southampton</i>"
   ]
  },
  {
   "cell_type": "markdown",
   "id": "1a245c20-6d07-42a6-ae76-17da314b635a",
   "metadata": {
    "id": "1a245c20-6d07-42a6-ae76-17da314b635a",
    "jp-MarkdownHeadingCollapsed": true,
    "tags": []
   },
   "source": [
    ">### 6.1 - Sex"
   ]
  },
  {
   "cell_type": "code",
   "execution_count": 12,
   "id": "5877cef3-38f0-47cc-bc7d-b972048109d1",
   "metadata": {
    "colab": {
     "base_uri": "https://localhost:8080/"
    },
    "executionInfo": {
     "elapsed": 269,
     "status": "ok",
     "timestamp": 1680039994484,
     "user": {
      "displayName": "Mehrdad M. Dehghan",
      "userId": "08222177611817016206"
     },
     "user_tz": 240
    },
    "id": "5877cef3-38f0-47cc-bc7d-b972048109d1",
    "outputId": "74e14722-88a2-4b1e-b515-945993a7fba8"
   },
   "outputs": [
    {
     "name": "stdout",
     "output_type": "stream",
     "text": [
      "male      842\n",
      "female    464\n",
      "Name: Sex, dtype: int64\n"
     ]
    }
   ],
   "source": [
    " print(df['Sex'].value_counts())"
   ]
  },
  {
   "cell_type": "markdown",
   "id": "23aa0682-86dc-4b77-bab8-045c5fa1ea0f",
   "metadata": {
    "id": "23aa0682-86dc-4b77-bab8-045c5fa1ea0f",
    "jp-MarkdownHeadingCollapsed": true,
    "tags": []
   },
   "source": [
    ">### 6.2 - Cabin"
   ]
  },
  {
   "cell_type": "code",
   "execution_count": 13,
   "id": "5617752d-0ca1-49a9-870e-2b3731519320",
   "metadata": {
    "colab": {
     "base_uri": "https://localhost:8080/"
    },
    "executionInfo": {
     "elapsed": 124,
     "status": "ok",
     "timestamp": 1680039998964,
     "user": {
      "displayName": "Mehrdad M. Dehghan",
      "userId": "08222177611817016206"
     },
     "user_tz": 240
    },
    "id": "5617752d-0ca1-49a9-870e-2b3731519320",
    "outputId": "4d0fbb0a-f9c9-4a2d-deaa-a20dc4166839"
   },
   "outputs": [
    {
     "name": "stdout",
     "output_type": "stream",
     "text": [
      "Unknown            1013\n",
      "C23 C25 C27           6\n",
      "B57 B59 B63 B66       5\n",
      "G6                    5\n",
      "F33                   4\n",
      "                   ... \n",
      "A14                   1\n",
      "E63                   1\n",
      "E12                   1\n",
      "E38                   1\n",
      "C105                  1\n",
      "Name: Cabin, Length: 186, dtype: int64\n"
     ]
    }
   ],
   "source": [
    " print(df['Cabin'].value_counts())"
   ]
  },
  {
   "cell_type": "markdown",
   "id": "dd2aeeca-d262-4c0a-a256-80aadffb9cf2",
   "metadata": {
    "id": "dd2aeeca-d262-4c0a-a256-80aadffb9cf2"
   },
   "source": [
    "For <b>\"Cabin\"</b> we should just extract the first letter that show the class of cabin:"
   ]
  },
  {
   "cell_type": "code",
   "execution_count": 14,
   "id": "d16bb1a7",
   "metadata": {},
   "outputs": [],
   "source": [
    "def extract_first_letter_except_unknown(x):\n",
    "    if x == 'Unknown':\n",
    "        return x\n",
    "    else:\n",
    "        return x[0]\n",
    "    \n",
    "df['Cabin'] = df['Cabin'].apply(extract_first_letter_except_unknown)"
   ]
  },
  {
   "cell_type": "markdown",
   "id": "7bffd0d1",
   "metadata": {},
   "source": [
    "now, again we check the range:"
   ]
  },
  {
   "cell_type": "code",
   "execution_count": 15,
   "id": "a099ab47",
   "metadata": {
    "scrolled": true
   },
   "outputs": [
    {
     "name": "stdout",
     "output_type": "stream",
     "text": [
      "Unknown    1013\n",
      "C            94\n",
      "B            63\n",
      "D            46\n",
      "E            41\n",
      "A            22\n",
      "F            21\n",
      "G             5\n",
      "T             1\n",
      "Name: Cabin, dtype: int64\n"
     ]
    }
   ],
   "source": [
    " print(df['Cabin'].value_counts())"
   ]
  },
  {
   "cell_type": "markdown",
   "id": "343a4aa9",
   "metadata": {},
   "source": [
    "<hr>"
   ]
  },
  {
   "cell_type": "markdown",
   "id": "5dfba275-14cc-4ad3-a565-e7d24e2d8740",
   "metadata": {
    "id": "5dfba275-14cc-4ad3-a565-e7d24e2d8740"
   },
   "source": [
    "## Check Point"
   ]
  },
  {
   "cell_type": "code",
   "execution_count": 16,
   "id": "dc085d26-07a9-467e-bdc2-efb89d932b25",
   "metadata": {
    "executionInfo": {
     "elapsed": 289,
     "status": "ok",
     "timestamp": 1680040066696,
     "user": {
      "displayName": "Mehrdad M. Dehghan",
      "userId": "08222177611817016206"
     },
     "user_tz": 240
    },
    "id": "dc085d26-07a9-467e-bdc2-efb89d932b25"
   },
   "outputs": [],
   "source": [
    "with open('../Assets/Version 1-4.pickle', 'wb') as file:\n",
    "    pickle.dump(df, file)"
   ]
  },
  {
   "cell_type": "code",
   "execution_count": null,
   "id": "b10191e0",
   "metadata": {},
   "outputs": [],
   "source": []
  }
 ],
 "metadata": {
  "colab": {
   "provenance": []
  },
  "kernelspec": {
   "display_name": "Python 3 (ipykernel)",
   "language": "python",
   "name": "python3"
  },
  "language_info": {
   "codemirror_mode": {
    "name": "ipython",
    "version": 3
   },
   "file_extension": ".py",
   "mimetype": "text/x-python",
   "name": "python",
   "nbconvert_exporter": "python",
   "pygments_lexer": "ipython3",
   "version": "3.9.13"
  }
 },
 "nbformat": 4,
 "nbformat_minor": 5
}
