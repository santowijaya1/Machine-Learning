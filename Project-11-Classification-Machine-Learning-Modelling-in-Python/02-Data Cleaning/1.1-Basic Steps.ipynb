{
 "cells": [
  {
   "cell_type": "markdown",
   "id": "ebb6f6b3-959d-40aa-a7f2-b3e9276a58cf",
   "metadata": {
    "id": "ebb6f6b3-959d-40aa-a7f2-b3e9276a58cf",
    "tags": []
   },
   "source": [
    "## 1 - Setup Environment"
   ]
  },
  {
   "cell_type": "markdown",
   "id": "7480b179-f54d-4290-b26e-d0898adeacb4",
   "metadata": {
    "id": "7480b179-f54d-4290-b26e-d0898adeacb4"
   },
   "source": [
    "Dirst we should import the most important libraries."
   ]
  },
  {
   "cell_type": "code",
   "execution_count": 2,
   "id": "5edd0835-a428-4611-9ec7-f922b8f5599c",
   "metadata": {
    "colab": {
     "base_uri": "https://localhost:8080/"
    },
    "executionInfo": {
     "elapsed": 929,
     "status": "ok",
     "timestamp": 1680034174547,
     "user": {
      "displayName": "Mehrdad M. Dehghan",
      "userId": "08222177611817016206"
     },
     "user_tz": 240
    },
    "id": "5edd0835-a428-4611-9ec7-f922b8f5599c",
    "outputId": "adc3e10f-8947-4f55-96e3-0bc095102698"
   },
   "outputs": [],
   "source": [
    "import numpy as np\n",
    "import pandas as pd\n",
    "import pickle"
   ]
  },
  {
   "cell_type": "markdown",
   "id": "03422b4f",
   "metadata": {},
   "source": [
    "<hr>"
   ]
  },
  {
   "cell_type": "markdown",
   "id": "d94b93ee-ce0e-421d-b7df-5cbc0478668d",
   "metadata": {
    "id": "d94b93ee-ce0e-421d-b7df-5cbc0478668d",
    "tags": []
   },
   "source": [
    "## 2 - Load Dataset"
   ]
  },
  {
   "cell_type": "markdown",
   "id": "a5e92921-802a-4f88-81c6-f79147640853",
   "metadata": {
    "id": "a5e92921-802a-4f88-81c6-f79147640853"
   },
   "source": [
    "then we import the dataset, and we should make sure about the file directory."
   ]
  },
  {
   "cell_type": "code",
   "execution_count": 3,
   "id": "e7f94d25-bbc0-4f0e-ad33-e099edb33db8",
   "metadata": {
    "colab": {
     "base_uri": "https://localhost:8080/",
     "height": 257
    },
    "executionInfo": {
     "elapsed": 19,
     "status": "ok",
     "timestamp": 1680034174547,
     "user": {
      "displayName": "Mehrdad M. Dehghan",
      "userId": "08222177611817016206"
     },
     "user_tz": 240
    },
    "id": "e7f94d25-bbc0-4f0e-ad33-e099edb33db8",
    "outputId": "320219e7-3dc5-4de8-b048-4e9384dd97b6",
    "scrolled": true
   },
   "outputs": [
    {
     "data": {
      "text/html": [
       "<div>\n",
       "<style scoped>\n",
       "    .dataframe tbody tr th:only-of-type {\n",
       "        vertical-align: middle;\n",
       "    }\n",
       "\n",
       "    .dataframe tbody tr th {\n",
       "        vertical-align: top;\n",
       "    }\n",
       "\n",
       "    .dataframe thead th {\n",
       "        text-align: right;\n",
       "    }\n",
       "</style>\n",
       "<table border=\"1\" class=\"dataframe\">\n",
       "  <thead>\n",
       "    <tr style=\"text-align: right;\">\n",
       "      <th></th>\n",
       "      <th>PassengerId</th>\n",
       "      <th>Survived</th>\n",
       "      <th>Pclass</th>\n",
       "      <th>Name</th>\n",
       "      <th>Sex</th>\n",
       "      <th>Age</th>\n",
       "      <th>Parch</th>\n",
       "      <th>Ticket</th>\n",
       "      <th>Fare</th>\n",
       "      <th>Cabin</th>\n",
       "      <th>Embarked</th>\n",
       "    </tr>\n",
       "  </thead>\n",
       "  <tbody>\n",
       "    <tr>\n",
       "      <th>0</th>\n",
       "      <td>1</td>\n",
       "      <td>0</td>\n",
       "      <td>3</td>\n",
       "      <td>Braund, Mr. Owen Harris</td>\n",
       "      <td>male</td>\n",
       "      <td>22.0</td>\n",
       "      <td>0</td>\n",
       "      <td>A/5 21171</td>\n",
       "      <td>7.2500</td>\n",
       "      <td>NaN</td>\n",
       "      <td>S</td>\n",
       "    </tr>\n",
       "    <tr>\n",
       "      <th>1</th>\n",
       "      <td>2</td>\n",
       "      <td>1</td>\n",
       "      <td>1</td>\n",
       "      <td>Cumings, Mrs. John Bradley (Florence Briggs Th...</td>\n",
       "      <td>female</td>\n",
       "      <td>38.0</td>\n",
       "      <td>0</td>\n",
       "      <td>PC 17599</td>\n",
       "      <td>71.2833</td>\n",
       "      <td>C85</td>\n",
       "      <td>C</td>\n",
       "    </tr>\n",
       "    <tr>\n",
       "      <th>2</th>\n",
       "      <td>3</td>\n",
       "      <td>1</td>\n",
       "      <td>3</td>\n",
       "      <td>Heikkinen, Miss. Laina</td>\n",
       "      <td>female</td>\n",
       "      <td>26.0</td>\n",
       "      <td>0</td>\n",
       "      <td>STON/O2. 3101282</td>\n",
       "      <td>7.9250</td>\n",
       "      <td>NaN</td>\n",
       "      <td>S</td>\n",
       "    </tr>\n",
       "    <tr>\n",
       "      <th>3</th>\n",
       "      <td>4</td>\n",
       "      <td>1</td>\n",
       "      <td>1</td>\n",
       "      <td>Futrelle, Mrs. Jacques Heath (Lily May Peel)</td>\n",
       "      <td>female</td>\n",
       "      <td>35.0</td>\n",
       "      <td>0</td>\n",
       "      <td>113803</td>\n",
       "      <td>53.1000</td>\n",
       "      <td>C123</td>\n",
       "      <td>S</td>\n",
       "    </tr>\n",
       "    <tr>\n",
       "      <th>4</th>\n",
       "      <td>5</td>\n",
       "      <td>0</td>\n",
       "      <td>3</td>\n",
       "      <td>Allen, Mr. William Henry</td>\n",
       "      <td>male</td>\n",
       "      <td>35.0</td>\n",
       "      <td>0</td>\n",
       "      <td>373450</td>\n",
       "      <td>8.0500</td>\n",
       "      <td>NaN</td>\n",
       "      <td>S</td>\n",
       "    </tr>\n",
       "  </tbody>\n",
       "</table>\n",
       "</div>"
      ],
      "text/plain": [
       "   PassengerId  Survived  Pclass  \\\n",
       "0            1         0       3   \n",
       "1            2         1       1   \n",
       "2            3         1       3   \n",
       "3            4         1       1   \n",
       "4            5         0       3   \n",
       "\n",
       "                                                Name     Sex   Age  Parch  \\\n",
       "0                            Braund, Mr. Owen Harris    male  22.0      0   \n",
       "1  Cumings, Mrs. John Bradley (Florence Briggs Th...  female  38.0      0   \n",
       "2                             Heikkinen, Miss. Laina  female  26.0      0   \n",
       "3       Futrelle, Mrs. Jacques Heath (Lily May Peel)  female  35.0      0   \n",
       "4                           Allen, Mr. William Henry    male  35.0      0   \n",
       "\n",
       "             Ticket     Fare Cabin Embarked  \n",
       "0         A/5 21171   7.2500   NaN        S  \n",
       "1          PC 17599  71.2833   C85        C  \n",
       "2  STON/O2. 3101282   7.9250   NaN        S  \n",
       "3            113803  53.1000  C123        S  \n",
       "4            373450   8.0500   NaN        S  "
      ]
     },
     "execution_count": 3,
     "metadata": {},
     "output_type": "execute_result"
    }
   ],
   "source": [
    "dataset = pd.read_csv('../Assets/dataset.csv')\n",
    "dataset.head()"
   ]
  },
  {
   "cell_type": "markdown",
   "id": "6aff2a2d",
   "metadata": {},
   "source": [
    "<hr>"
   ]
  },
  {
   "cell_type": "markdown",
   "id": "d375e19a-c997-4dde-9c15-36d7bb9b290e",
   "metadata": {
    "id": "d375e19a-c997-4dde-9c15-36d7bb9b290e",
    "tags": []
   },
   "source": [
    "## 3 - Data Eyebaling"
   ]
  },
  {
   "cell_type": "code",
   "execution_count": 4,
   "id": "a841718a-9311-4d6b-b061-29e79f02b797",
   "metadata": {
    "colab": {
     "base_uri": "https://localhost:8080/"
    },
    "executionInfo": {
     "elapsed": 18,
     "status": "ok",
     "timestamp": 1680034174548,
     "user": {
      "displayName": "Mehrdad M. Dehghan",
      "userId": "08222177611817016206"
     },
     "user_tz": 240
    },
    "id": "a841718a-9311-4d6b-b061-29e79f02b797",
    "outputId": "3a88c9f4-5251-43df-9df4-14c55667a0b4"
   },
   "outputs": [
    {
     "name": "stdout",
     "output_type": "stream",
     "text": [
      "<class 'pandas.core.frame.DataFrame'>\n",
      "RangeIndex: 1309 entries, 0 to 1308\n",
      "Data columns (total 11 columns):\n",
      " #   Column       Non-Null Count  Dtype  \n",
      "---  ------       --------------  -----  \n",
      " 0   PassengerId  1309 non-null   int64  \n",
      " 1   Survived     1309 non-null   int64  \n",
      " 2   Pclass       1309 non-null   int64  \n",
      " 3   Name         1309 non-null   object \n",
      " 4   Sex          1309 non-null   object \n",
      " 5   Age          1046 non-null   float64\n",
      " 6   Parch        1309 non-null   int64  \n",
      " 7   Ticket       1309 non-null   object \n",
      " 8   Fare         1308 non-null   float64\n",
      " 9   Cabin        295 non-null    object \n",
      " 10  Embarked     1307 non-null   object \n",
      "dtypes: float64(2), int64(4), object(5)\n",
      "memory usage: 112.6+ KB\n"
     ]
    }
   ],
   "source": [
    "dataset.info()"
   ]
  },
  {
   "cell_type": "markdown",
   "id": "c2fe9eb5",
   "metadata": {},
   "source": [
    "we have some null values in Age, Fare, Cabin and Embarked"
   ]
  },
  {
   "cell_type": "markdown",
   "id": "665dc104",
   "metadata": {},
   "source": [
    "<hr>"
   ]
  },
  {
   "cell_type": "markdown",
   "id": "d129f1b4-c93e-41fb-a9d4-4d2bbafbbdd2",
   "metadata": {
    "id": "d129f1b4-c93e-41fb-a9d4-4d2bbafbbdd2",
    "tags": []
   },
   "source": [
    "## 4 - Make a Copy"
   ]
  },
  {
   "cell_type": "markdown",
   "id": "6a4b7234-aede-49a7-b511-2e9c8909bd61",
   "metadata": {
    "id": "6a4b7234-aede-49a7-b511-2e9c8909bd61"
   },
   "source": [
    "to reserve the original dataset, first we should make a copy"
   ]
  },
  {
   "cell_type": "code",
   "execution_count": 6,
   "id": "4f74ec0a-0abc-4fea-9b9f-e5f75bba1940",
   "metadata": {
    "executionInfo": {
     "elapsed": 17,
     "status": "ok",
     "timestamp": 1680034174548,
     "user": {
      "displayName": "Mehrdad M. Dehghan",
      "userId": "08222177611817016206"
     },
     "user_tz": 240
    },
    "id": "4f74ec0a-0abc-4fea-9b9f-e5f75bba1940"
   },
   "outputs": [],
   "source": [
    "df = dataset.copy()"
   ]
  },
  {
   "cell_type": "markdown",
   "id": "ef2f0515",
   "metadata": {},
   "source": [
    "<hr>"
   ]
  },
  {
   "cell_type": "markdown",
   "id": "4f1f407b-bf07-4884-817d-73498d0489a4",
   "metadata": {
    "id": "4f1f407b-bf07-4884-817d-73498d0489a4",
    "tags": []
   },
   "source": [
    "## 5 - Duplicate Rows"
   ]
  },
  {
   "cell_type": "markdown",
   "id": "182b0064-ef38-4842-a3c5-8bbb5a14088d",
   "metadata": {
    "id": "182b0064-ef38-4842-a3c5-8bbb5a14088d"
   },
   "source": [
    "in this step, we should make sure there is not full duplicated rows as weel as there is no two similar rows."
   ]
  },
  {
   "cell_type": "code",
   "execution_count": 7,
   "id": "82b91ee2-ef0a-4bd5-b1ee-0e1bdb8a864f",
   "metadata": {
    "colab": {
     "base_uri": "https://localhost:8080/"
    },
    "executionInfo": {
     "elapsed": 17,
     "status": "ok",
     "timestamp": 1680034174548,
     "user": {
      "displayName": "Mehrdad M. Dehghan",
      "userId": "08222177611817016206"
     },
     "user_tz": 240
    },
    "id": "82b91ee2-ef0a-4bd5-b1ee-0e1bdb8a864f",
    "outputId": "a25c21be-b05e-4c29-ef88-2da7de4e84b1"
   },
   "outputs": [
    {
     "data": {
      "text/plain": [
       "(1309, 11)"
      ]
     },
     "execution_count": 7,
     "metadata": {},
     "output_type": "execute_result"
    }
   ],
   "source": [
    "df.shape"
   ]
  },
  {
   "cell_type": "code",
   "execution_count": 8,
   "id": "7bd318d6-3b92-4d2a-80d6-9b70db290b49",
   "metadata": {
    "executionInfo": {
     "elapsed": 16,
     "status": "ok",
     "timestamp": 1680034174549,
     "user": {
      "displayName": "Mehrdad M. Dehghan",
      "userId": "08222177611817016206"
     },
     "user_tz": 240
    },
    "id": "7bd318d6-3b92-4d2a-80d6-9b70db290b49"
   },
   "outputs": [],
   "source": [
    "mask = df.duplicated(subset='PassengerId')\n",
    "df = df[~(mask & df['PassengerId'].duplicated())]"
   ]
  },
  {
   "cell_type": "markdown",
   "id": "38edfc7d-0ef0-4878-a191-0a472c3f0a20",
   "metadata": {
    "id": "38edfc7d-0ef0-4878-a191-0a472c3f0a20"
   },
   "source": [
    "Let's check to see if there could be some rows that are similar in all variables or not, except project id"
   ]
  },
  {
   "cell_type": "code",
   "execution_count": 9,
   "id": "24c21978-624f-43dd-985a-f4ba0ea436ca",
   "metadata": {
    "colab": {
     "base_uri": "https://localhost:8080/"
    },
    "executionInfo": {
     "elapsed": 16,
     "status": "ok",
     "timestamp": 1680034174549,
     "user": {
      "displayName": "Mehrdad M. Dehghan",
      "userId": "08222177611817016206"
     },
     "user_tz": 240
    },
    "id": "24c21978-624f-43dd-985a-f4ba0ea436ca",
    "outputId": "ed0ab2f7-7b2d-45af-d671-5c30fda5f679"
   },
   "outputs": [
    {
     "data": {
      "text/plain": [
       "(1309, 11)"
      ]
     },
     "execution_count": 9,
     "metadata": {},
     "output_type": "execute_result"
    }
   ],
   "source": [
    "df.shape"
   ]
  },
  {
   "cell_type": "markdown",
   "id": "6058c66a-49ae-45b0-be3e-04a9c3912604",
   "metadata": {
    "id": "6058c66a-49ae-45b0-be3e-04a9c3912604"
   },
   "source": [
    "the result shows we didn't have any duplicated rows."
   ]
  },
  {
   "cell_type": "markdown",
   "id": "b601b844",
   "metadata": {},
   "source": [
    "<hr>"
   ]
  },
  {
   "cell_type": "markdown",
   "id": "13c8b1dd-b3b5-43fb-bd9d-57cb1ee746ef",
   "metadata": {
    "id": "13c8b1dd-b3b5-43fb-bd9d-57cb1ee746ef",
    "tags": []
   },
   "source": [
    "## 6 - Change Order"
   ]
  },
  {
   "cell_type": "markdown",
   "id": "bcb559f0-5ee8-4e22-afe0-fb3636aa5b58",
   "metadata": {
    "id": "bcb559f0-5ee8-4e22-afe0-fb3636aa5b58"
   },
   "source": [
    "To have better view on data and variable, let's change their orders. Let's find all variables' name:"
   ]
  },
  {
   "cell_type": "code",
   "execution_count": 10,
   "id": "18574674-c81f-4b7b-b21d-14430a8a36c0",
   "metadata": {
    "colab": {
     "base_uri": "https://localhost:8080/"
    },
    "executionInfo": {
     "elapsed": 8,
     "status": "ok",
     "timestamp": 1680034174736,
     "user": {
      "displayName": "Mehrdad M. Dehghan",
      "userId": "08222177611817016206"
     },
     "user_tz": 240
    },
    "id": "18574674-c81f-4b7b-b21d-14430a8a36c0",
    "outputId": "7928716a-1733-467f-946b-02aebe0bbd80"
   },
   "outputs": [
    {
     "name": "stdout",
     "output_type": "stream",
     "text": [
      "Index(['PassengerId', 'Survived', 'Pclass', 'Name', 'Sex', 'Age', 'Parch',\n",
      "       'Ticket', 'Fare', 'Cabin', 'Embarked'],\n",
      "      dtype='object')\n"
     ]
    }
   ],
   "source": [
    "print(df.columns)"
   ]
  },
  {
   "cell_type": "markdown",
   "id": "29e323d5-052b-4dcd-a9c4-c3b1060f939c",
   "metadata": {
    "id": "29e323d5-052b-4dcd-a9c4-c3b1060f939c"
   },
   "source": [
    "now, we change the order based on their data type:"
   ]
  },
  {
   "cell_type": "code",
   "execution_count": 11,
   "id": "843a5e33-dae0-42ea-bd4c-769ab10cbbd5",
   "metadata": {
    "executionInfo": {
     "elapsed": 6,
     "status": "ok",
     "timestamp": 1680034174737,
     "user": {
      "displayName": "Mehrdad M. Dehghan",
      "userId": "08222177611817016206"
     },
     "user_tz": 240
    },
    "id": "843a5e33-dae0-42ea-bd4c-769ab10cbbd5",
    "scrolled": true
   },
   "outputs": [
    {
     "data": {
      "text/html": [
       "<div>\n",
       "<style scoped>\n",
       "    .dataframe tbody tr th:only-of-type {\n",
       "        vertical-align: middle;\n",
       "    }\n",
       "\n",
       "    .dataframe tbody tr th {\n",
       "        vertical-align: top;\n",
       "    }\n",
       "\n",
       "    .dataframe thead th {\n",
       "        text-align: right;\n",
       "    }\n",
       "</style>\n",
       "<table border=\"1\" class=\"dataframe\">\n",
       "  <thead>\n",
       "    <tr style=\"text-align: right;\">\n",
       "      <th></th>\n",
       "      <th>PassengerId</th>\n",
       "      <th>Name</th>\n",
       "      <th>Ticket</th>\n",
       "      <th>Age</th>\n",
       "      <th>Parch</th>\n",
       "      <th>Fare</th>\n",
       "      <th>Pclass</th>\n",
       "      <th>Sex</th>\n",
       "      <th>Cabin</th>\n",
       "      <th>Embarked</th>\n",
       "      <th>Survived</th>\n",
       "    </tr>\n",
       "  </thead>\n",
       "  <tbody>\n",
       "    <tr>\n",
       "      <th>0</th>\n",
       "      <td>1</td>\n",
       "      <td>Braund, Mr. Owen Harris</td>\n",
       "      <td>A/5 21171</td>\n",
       "      <td>22.0</td>\n",
       "      <td>0</td>\n",
       "      <td>7.2500</td>\n",
       "      <td>3</td>\n",
       "      <td>male</td>\n",
       "      <td>NaN</td>\n",
       "      <td>S</td>\n",
       "      <td>0</td>\n",
       "    </tr>\n",
       "    <tr>\n",
       "      <th>1</th>\n",
       "      <td>2</td>\n",
       "      <td>Cumings, Mrs. John Bradley (Florence Briggs Th...</td>\n",
       "      <td>PC 17599</td>\n",
       "      <td>38.0</td>\n",
       "      <td>0</td>\n",
       "      <td>71.2833</td>\n",
       "      <td>1</td>\n",
       "      <td>female</td>\n",
       "      <td>C85</td>\n",
       "      <td>C</td>\n",
       "      <td>1</td>\n",
       "    </tr>\n",
       "    <tr>\n",
       "      <th>2</th>\n",
       "      <td>3</td>\n",
       "      <td>Heikkinen, Miss. Laina</td>\n",
       "      <td>STON/O2. 3101282</td>\n",
       "      <td>26.0</td>\n",
       "      <td>0</td>\n",
       "      <td>7.9250</td>\n",
       "      <td>3</td>\n",
       "      <td>female</td>\n",
       "      <td>NaN</td>\n",
       "      <td>S</td>\n",
       "      <td>1</td>\n",
       "    </tr>\n",
       "    <tr>\n",
       "      <th>3</th>\n",
       "      <td>4</td>\n",
       "      <td>Futrelle, Mrs. Jacques Heath (Lily May Peel)</td>\n",
       "      <td>113803</td>\n",
       "      <td>35.0</td>\n",
       "      <td>0</td>\n",
       "      <td>53.1000</td>\n",
       "      <td>1</td>\n",
       "      <td>female</td>\n",
       "      <td>C123</td>\n",
       "      <td>S</td>\n",
       "      <td>1</td>\n",
       "    </tr>\n",
       "    <tr>\n",
       "      <th>4</th>\n",
       "      <td>5</td>\n",
       "      <td>Allen, Mr. William Henry</td>\n",
       "      <td>373450</td>\n",
       "      <td>35.0</td>\n",
       "      <td>0</td>\n",
       "      <td>8.0500</td>\n",
       "      <td>3</td>\n",
       "      <td>male</td>\n",
       "      <td>NaN</td>\n",
       "      <td>S</td>\n",
       "      <td>0</td>\n",
       "    </tr>\n",
       "  </tbody>\n",
       "</table>\n",
       "</div>"
      ],
      "text/plain": [
       "   PassengerId                                               Name  \\\n",
       "0            1                            Braund, Mr. Owen Harris   \n",
       "1            2  Cumings, Mrs. John Bradley (Florence Briggs Th...   \n",
       "2            3                             Heikkinen, Miss. Laina   \n",
       "3            4       Futrelle, Mrs. Jacques Heath (Lily May Peel)   \n",
       "4            5                           Allen, Mr. William Henry   \n",
       "\n",
       "             Ticket   Age  Parch     Fare  Pclass     Sex Cabin Embarked  \\\n",
       "0         A/5 21171  22.0      0   7.2500       3    male   NaN        S   \n",
       "1          PC 17599  38.0      0  71.2833       1  female   C85        C   \n",
       "2  STON/O2. 3101282  26.0      0   7.9250       3  female   NaN        S   \n",
       "3            113803  35.0      0  53.1000       1  female  C123        S   \n",
       "4            373450  35.0      0   8.0500       3    male   NaN        S   \n",
       "\n",
       "   Survived  \n",
       "0         0  \n",
       "1         1  \n",
       "2         1  \n",
       "3         1  \n",
       "4         0  "
      ]
     },
     "execution_count": 11,
     "metadata": {},
     "output_type": "execute_result"
    }
   ],
   "source": [
    "order = [\n",
    "    #string\n",
    "    'PassengerId', 'Name', 'Ticket', \n",
    "    #numerical\n",
    "    'Age', 'Parch', 'Fare', \n",
    "    #categorical ordinal\n",
    "    'Pclass', \n",
    "    #categorical nominal\n",
    "    'Sex', 'Cabin', 'Embarked' , 'Survived']\n",
    "\n",
    "df = df[order]\n",
    "\n",
    "df.head()"
   ]
  },
  {
   "cell_type": "markdown",
   "id": "b988f94b",
   "metadata": {},
   "source": [
    "<hr>"
   ]
  },
  {
   "cell_type": "markdown",
   "id": "JXF_74dRiq6f",
   "metadata": {
    "id": "JXF_74dRiq6f"
   },
   "source": [
    "## Check Point"
   ]
  },
  {
   "cell_type": "code",
   "execution_count": 12,
   "id": "T5Aj-MjWitOx",
   "metadata": {
    "executionInfo": {
     "elapsed": 6,
     "status": "ok",
     "timestamp": 1680034174737,
     "user": {
      "displayName": "Mehrdad M. Dehghan",
      "userId": "08222177611817016206"
     },
     "user_tz": 240
    },
    "id": "T5Aj-MjWitOx"
   },
   "outputs": [],
   "source": [
    "with open('../Assets/Version 1-1.pickle', 'wb') as file:\n",
    "    pickle.dump(df, file)"
   ]
  },
  {
   "cell_type": "code",
   "execution_count": null,
   "id": "415c0194",
   "metadata": {},
   "outputs": [],
   "source": []
  }
 ],
 "metadata": {
  "colab": {
   "collapsed_sections": [
    "ebb6f6b3-959d-40aa-a7f2-b3e9276a58cf",
    "d94b93ee-ce0e-421d-b7df-5cbc0478668d",
    "d375e19a-c997-4dde-9c15-36d7bb9b290e",
    "d129f1b4-c93e-41fb-a9d4-4d2bbafbbdd2",
    "4f1f407b-bf07-4884-817d-73498d0489a4",
    "b74a7484-f1a1-4a9e-8b42-5dcda3ea44c1",
    "13c8b1dd-b3b5-43fb-bd9d-57cb1ee746ef",
    "JXF_74dRiq6f"
   ],
   "provenance": []
  },
  "kernelspec": {
   "display_name": "Python 3 (ipykernel)",
   "language": "python",
   "name": "python3"
  },
  "language_info": {
   "codemirror_mode": {
    "name": "ipython",
    "version": 3
   },
   "file_extension": ".py",
   "mimetype": "text/x-python",
   "name": "python",
   "nbconvert_exporter": "python",
   "pygments_lexer": "ipython3",
   "version": "3.9.13"
  }
 },
 "nbformat": 4,
 "nbformat_minor": 5
}
