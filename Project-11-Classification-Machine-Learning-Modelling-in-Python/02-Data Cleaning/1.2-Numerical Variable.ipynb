{
 "cells": [
  {
   "cell_type": "markdown",
   "id": "758ed1b7-0677-4987-a091-23c8634ba616",
   "metadata": {
    "id": "758ed1b7-0677-4987-a091-23c8634ba616",
    "jp-MarkdownHeadingCollapsed": true,
    "tags": []
   },
   "source": [
    "## 1 - SetUp Environment"
   ]
  },
  {
   "cell_type": "code",
   "execution_count": 2,
   "id": "8a75bd18-4bb5-4ec9-9423-5c391efcce7c",
   "metadata": {
    "colab": {
     "base_uri": "https://localhost:8080/"
    },
    "executionInfo": {
     "elapsed": 815,
     "status": "ok",
     "timestamp": 1680034967235,
     "user": {
      "displayName": "Mehrdad M. Dehghan",
      "userId": "08222177611817016206"
     },
     "user_tz": 240
    },
    "id": "8a75bd18-4bb5-4ec9-9423-5c391efcce7c",
    "outputId": "1ce110fc-5f8d-421b-ec0b-529d0df964eb"
   },
   "outputs": [],
   "source": [
    "import numpy as np\n",
    "import pandas as pd\n",
    "import pickle"
   ]
  },
  {
   "cell_type": "markdown",
   "id": "ad7ed52e",
   "metadata": {},
   "source": [
    "<hr>"
   ]
  },
  {
   "cell_type": "markdown",
   "id": "16f973d7-67db-44c9-9469-eeea0813c270",
   "metadata": {
    "id": "16f973d7-67db-44c9-9469-eeea0813c270",
    "jp-MarkdownHeadingCollapsed": true,
    "tags": []
   },
   "source": [
    "## 2 - Load Dataframe"
   ]
  },
  {
   "cell_type": "code",
   "execution_count": 3,
   "id": "6fd45528-64cd-4fe7-80b3-eeaf8f05573c",
   "metadata": {
    "colab": {
     "base_uri": "https://localhost:8080/",
     "height": 143
    },
    "executionInfo": {
     "elapsed": 948,
     "status": "ok",
     "timestamp": 1680034975161,
     "user": {
      "displayName": "Mehrdad M. Dehghan",
      "userId": "08222177611817016206"
     },
     "user_tz": 240
    },
    "id": "6fd45528-64cd-4fe7-80b3-eeaf8f05573c",
    "outputId": "48059a73-94a0-403a-bc4c-cc0b8da7fe0f",
    "scrolled": true
   },
   "outputs": [
    {
     "data": {
      "text/html": [
       "<div>\n",
       "<style scoped>\n",
       "    .dataframe tbody tr th:only-of-type {\n",
       "        vertical-align: middle;\n",
       "    }\n",
       "\n",
       "    .dataframe tbody tr th {\n",
       "        vertical-align: top;\n",
       "    }\n",
       "\n",
       "    .dataframe thead th {\n",
       "        text-align: right;\n",
       "    }\n",
       "</style>\n",
       "<table border=\"1\" class=\"dataframe\">\n",
       "  <thead>\n",
       "    <tr style=\"text-align: right;\">\n",
       "      <th></th>\n",
       "      <th>PassengerId</th>\n",
       "      <th>Name</th>\n",
       "      <th>Ticket</th>\n",
       "      <th>Age</th>\n",
       "      <th>Parch</th>\n",
       "      <th>Fare</th>\n",
       "      <th>Pclass</th>\n",
       "      <th>Sex</th>\n",
       "      <th>Cabin</th>\n",
       "      <th>Embarked</th>\n",
       "      <th>Survived</th>\n",
       "    </tr>\n",
       "  </thead>\n",
       "  <tbody>\n",
       "    <tr>\n",
       "      <th>0</th>\n",
       "      <td>1</td>\n",
       "      <td>Braund, Mr. Owen Harris</td>\n",
       "      <td>A/5 21171</td>\n",
       "      <td>22.0</td>\n",
       "      <td>0</td>\n",
       "      <td>7.2500</td>\n",
       "      <td>3</td>\n",
       "      <td>male</td>\n",
       "      <td>NaN</td>\n",
       "      <td>S</td>\n",
       "      <td>0</td>\n",
       "    </tr>\n",
       "    <tr>\n",
       "      <th>1</th>\n",
       "      <td>2</td>\n",
       "      <td>Cumings, Mrs. John Bradley (Florence Briggs Th...</td>\n",
       "      <td>PC 17599</td>\n",
       "      <td>38.0</td>\n",
       "      <td>0</td>\n",
       "      <td>71.2833</td>\n",
       "      <td>1</td>\n",
       "      <td>female</td>\n",
       "      <td>C85</td>\n",
       "      <td>C</td>\n",
       "      <td>1</td>\n",
       "    </tr>\n",
       "    <tr>\n",
       "      <th>2</th>\n",
       "      <td>3</td>\n",
       "      <td>Heikkinen, Miss. Laina</td>\n",
       "      <td>STON/O2. 3101282</td>\n",
       "      <td>26.0</td>\n",
       "      <td>0</td>\n",
       "      <td>7.9250</td>\n",
       "      <td>3</td>\n",
       "      <td>female</td>\n",
       "      <td>NaN</td>\n",
       "      <td>S</td>\n",
       "      <td>1</td>\n",
       "    </tr>\n",
       "    <tr>\n",
       "      <th>3</th>\n",
       "      <td>4</td>\n",
       "      <td>Futrelle, Mrs. Jacques Heath (Lily May Peel)</td>\n",
       "      <td>113803</td>\n",
       "      <td>35.0</td>\n",
       "      <td>0</td>\n",
       "      <td>53.1000</td>\n",
       "      <td>1</td>\n",
       "      <td>female</td>\n",
       "      <td>C123</td>\n",
       "      <td>S</td>\n",
       "      <td>1</td>\n",
       "    </tr>\n",
       "    <tr>\n",
       "      <th>4</th>\n",
       "      <td>5</td>\n",
       "      <td>Allen, Mr. William Henry</td>\n",
       "      <td>373450</td>\n",
       "      <td>35.0</td>\n",
       "      <td>0</td>\n",
       "      <td>8.0500</td>\n",
       "      <td>3</td>\n",
       "      <td>male</td>\n",
       "      <td>NaN</td>\n",
       "      <td>S</td>\n",
       "      <td>0</td>\n",
       "    </tr>\n",
       "  </tbody>\n",
       "</table>\n",
       "</div>"
      ],
      "text/plain": [
       "   PassengerId                                               Name  \\\n",
       "0            1                            Braund, Mr. Owen Harris   \n",
       "1            2  Cumings, Mrs. John Bradley (Florence Briggs Th...   \n",
       "2            3                             Heikkinen, Miss. Laina   \n",
       "3            4       Futrelle, Mrs. Jacques Heath (Lily May Peel)   \n",
       "4            5                           Allen, Mr. William Henry   \n",
       "\n",
       "             Ticket   Age  Parch     Fare  Pclass     Sex Cabin Embarked  \\\n",
       "0         A/5 21171  22.0      0   7.2500       3    male   NaN        S   \n",
       "1          PC 17599  38.0      0  71.2833       1  female   C85        C   \n",
       "2  STON/O2. 3101282  26.0      0   7.9250       3  female   NaN        S   \n",
       "3            113803  35.0      0  53.1000       1  female  C123        S   \n",
       "4            373450  35.0      0   8.0500       3    male   NaN        S   \n",
       "\n",
       "   Survived  \n",
       "0         0  \n",
       "1         1  \n",
       "2         1  \n",
       "3         1  \n",
       "4         0  "
      ]
     },
     "execution_count": 3,
     "metadata": {},
     "output_type": "execute_result"
    }
   ],
   "source": [
    "with open('../Assets/Version 1-1.pickle', 'rb') as file:\n",
    "    df = pickle.load(file)\n",
    "\n",
    "df.head()"
   ]
  },
  {
   "cell_type": "markdown",
   "id": "8d2fd952",
   "metadata": {},
   "source": [
    "<hr>"
   ]
  },
  {
   "cell_type": "markdown",
   "id": "02efccfa-3266-47fc-82da-235ab6cb45fe",
   "metadata": {
    "id": "02efccfa-3266-47fc-82da-235ab6cb45fe",
    "jp-MarkdownHeadingCollapsed": true,
    "tags": []
   },
   "source": [
    "## 3 - Declare Variable"
   ]
  },
  {
   "cell_type": "markdown",
   "id": "5f0e918f-cabd-475d-bff3-7a43054e2f52",
   "metadata": {
    "id": "5f0e918f-cabd-475d-bff3-7a43054e2f52"
   },
   "source": [
    "In this section, I work on just numerical variables and I try to clean and preprocess them</br>\n",
    "<li> Age\n",
    "<li> Parch\n",
    "<li> Fare"
   ]
  },
  {
   "cell_type": "code",
   "execution_count": 4,
   "id": "2d7ad439-0cad-4034-90bb-7a9cab072755",
   "metadata": {
    "executionInfo": {
     "elapsed": 554,
     "status": "ok",
     "timestamp": 1680034980891,
     "user": {
      "displayName": "Mehrdad M. Dehghan",
      "userId": "08222177611817016206"
     },
     "user_tz": 240
    },
    "id": "2d7ad439-0cad-4034-90bb-7a9cab072755"
   },
   "outputs": [],
   "source": [
    "numerical_list = ['Age', 'Parch', 'Fare']"
   ]
  },
  {
   "cell_type": "markdown",
   "id": "9e6df787",
   "metadata": {},
   "source": [
    "<hr>"
   ]
  },
  {
   "cell_type": "markdown",
   "id": "5ce87c8b-56c0-409f-bd4e-c4ba54486890",
   "metadata": {
    "id": "5ce87c8b-56c0-409f-bd4e-c4ba54486890",
    "tags": []
   },
   "source": [
    "## 4 - Data Type Conversion"
   ]
  },
  {
   "cell_type": "markdown",
   "id": "e1024251-9fe2-4af0-9f31-2c0f68064d88",
   "metadata": {
    "id": "e1024251-9fe2-4af0-9f31-2c0f68064d88"
   },
   "source": [
    "the first thing that should be check is that we must make sure about data type of the numerical variable. Just because the column show numbers, it doesn't mean that they are integer.So, we should change them to integer. So, now we know, they have some charachters that made them as object or string instead of number. Thus, with regular expression we should clean them."
   ]
  },
  {
   "cell_type": "code",
   "execution_count": 5,
   "id": "9a9c02c6-4197-4e94-955f-1f307e8ea29d",
   "metadata": {
    "executionInfo": {
     "elapsed": 308,
     "status": "ok",
     "timestamp": 1680034995439,
     "user": {
      "displayName": "Mehrdad M. Dehghan",
      "userId": "08222177611817016206"
     },
     "user_tz": 240
    },
    "id": "9a9c02c6-4197-4e94-955f-1f307e8ea29d"
   },
   "outputs": [],
   "source": [
    "def non_numeric(x):\n",
    "    non_numeric_df = pd.DataFrame(df[df[x].astype(str).str.contains('[^0-9]+')])\n",
    "    return non_numeric_df"
   ]
  },
  {
   "cell_type": "markdown",
   "id": "de95777d-9363-4b07-b5aa-f1a8f88bbac7",
   "metadata": {
    "id": "de95777d-9363-4b07-b5aa-f1a8f88bbac7",
    "tags": []
   },
   "source": [
    ">### 4.1 - \"Age\""
   ]
  },
  {
   "cell_type": "code",
   "execution_count": 6,
   "id": "12b86151-6874-47b2-8b60-d2ef3ddabf89",
   "metadata": {
    "colab": {
     "base_uri": "https://localhost:8080/",
     "height": 689
    },
    "executionInfo": {
     "elapsed": 7,
     "status": "ok",
     "timestamp": 1680034997998,
     "user": {
      "displayName": "Mehrdad M. Dehghan",
      "userId": "08222177611817016206"
     },
     "user_tz": 240
    },
    "id": "12b86151-6874-47b2-8b60-d2ef3ddabf89",
    "outputId": "3ee464bf-098b-425b-dbb1-798d05bdf7df"
   },
   "outputs": [
    {
     "data": {
      "text/plain": [
       "31255.67"
      ]
     },
     "execution_count": 6,
     "metadata": {},
     "output_type": "execute_result"
    }
   ],
   "source": [
    "non_numeric('Age')\n",
    "df['Age'].sum()"
   ]
  },
  {
   "cell_type": "markdown",
   "id": "c3b35cee",
   "metadata": {},
   "source": [
    "The result shows in this variable there is no value that is not-number"
   ]
  },
  {
   "cell_type": "markdown",
   "id": "965aa0cc-e005-47fb-b603-475d03d19795",
   "metadata": {
    "id": "965aa0cc-e005-47fb-b603-475d03d19795",
    "jp-MarkdownHeadingCollapsed": true,
    "tags": []
   },
   "source": [
    ">### 4.2 - \"Parch\""
   ]
  },
  {
   "cell_type": "code",
   "execution_count": 7,
   "id": "4d91875e-f550-4f52-a217-eae2add3259d",
   "metadata": {
    "colab": {
     "base_uri": "https://localhost:8080/",
     "height": 423
    },
    "executionInfo": {
     "elapsed": 139,
     "status": "ok",
     "timestamp": 1680035010694,
     "user": {
      "displayName": "Mehrdad M. Dehghan",
      "userId": "08222177611817016206"
     },
     "user_tz": 240
    },
    "id": "4d91875e-f550-4f52-a217-eae2add3259d",
    "outputId": "66525e5e-6bc6-459b-89e4-2c621bcba835"
   },
   "outputs": [
    {
     "data": {
      "text/plain": [
       "504"
      ]
     },
     "execution_count": 7,
     "metadata": {},
     "output_type": "execute_result"
    }
   ],
   "source": [
    "non_numeric('Parch')\n",
    "df['Parch'].sum()"
   ]
  },
  {
   "cell_type": "markdown",
   "id": "b707436b-e6e0-47c6-9bf6-501fb8d5211f",
   "metadata": {
    "id": "b707436b-e6e0-47c6-9bf6-501fb8d5211f"
   },
   "source": [
    "The result shows in this variable there is no value that is not-number"
   ]
  },
  {
   "cell_type": "markdown",
   "id": "25250759-8d68-4b44-b2c4-5a1bc8efb048",
   "metadata": {
    "id": "25250759-8d68-4b44-b2c4-5a1bc8efb048",
    "jp-MarkdownHeadingCollapsed": true,
    "tags": []
   },
   "source": [
    ">### 4.3 - \"Fare\""
   ]
  },
  {
   "cell_type": "code",
   "execution_count": 8,
   "id": "2833c145-4339-4cf6-95e3-447fb288818a",
   "metadata": {
    "colab": {
     "base_uri": "https://localhost:8080/",
     "height": 425
    },
    "executionInfo": {
     "elapsed": 11,
     "status": "ok",
     "timestamp": 1680035017078,
     "user": {
      "displayName": "Mehrdad M. Dehghan",
      "userId": "08222177611817016206"
     },
     "user_tz": 240
    },
    "id": "2833c145-4339-4cf6-95e3-447fb288818a",
    "outputId": "e6003a53-a274-4678-89a3-0cdf2854596c"
   },
   "outputs": [
    {
     "data": {
      "text/plain": [
       "43550.4869"
      ]
     },
     "execution_count": 8,
     "metadata": {},
     "output_type": "execute_result"
    }
   ],
   "source": [
    "non_numeric('Fare')\n",
    "df['Fare'].sum()"
   ]
  },
  {
   "cell_type": "markdown",
   "id": "c28cc149-5d51-4744-8426-7ea58bdcd3df",
   "metadata": {
    "id": "c28cc149-5d51-4744-8426-7ea58bdcd3df"
   },
   "source": [
    "The result shows in this variable there is no value that is not-number"
   ]
  },
  {
   "cell_type": "markdown",
   "id": "6609e150",
   "metadata": {},
   "source": [
    "<hr>"
   ]
  },
  {
   "cell_type": "markdown",
   "id": "3ce33d9f-c9fb-4ee6-8982-718dde1aaf9c",
   "metadata": {
    "id": "3ce33d9f-c9fb-4ee6-8982-718dde1aaf9c",
    "tags": []
   },
   "source": [
    "## 5 - Handle Null Values"
   ]
  },
  {
   "cell_type": "markdown",
   "id": "d68b560b-68c5-4de7-926b-163191c157bd",
   "metadata": {
    "id": "d68b560b-68c5-4de7-926b-163191c157bd"
   },
   "source": [
    "we must make sure whether we have null values in these variables or not."
   ]
  },
  {
   "cell_type": "code",
   "execution_count": 9,
   "id": "356eab94-27b6-4709-8903-5dc87c478db8",
   "metadata": {
    "executionInfo": {
     "elapsed": 145,
     "status": "ok",
     "timestamp": 1680035056459,
     "user": {
      "displayName": "Mehrdad M. Dehghan",
      "userId": "08222177611817016206"
     },
     "user_tz": 240
    },
    "id": "356eab94-27b6-4709-8903-5dc87c478db8"
   },
   "outputs": [],
   "source": [
    "def null_checker():\n",
    "    for i in range(len(numerical_list)):\n",
    "        print(numerical_list[i] , ':' , df.loc[df[numerical_list[i]].isnull()].index)"
   ]
  },
  {
   "cell_type": "markdown",
   "id": "6b09156f-b2d7-4802-b133-1aba99cb21fd",
   "metadata": {
    "id": "6b09156f-b2d7-4802-b133-1aba99cb21fd"
   },
   "source": [
    "Then we run the function for all numerical variables"
   ]
  },
  {
   "cell_type": "code",
   "execution_count": 10,
   "id": "b6189ec4-510b-4f5a-8802-25b75cb89b09",
   "metadata": {
    "colab": {
     "base_uri": "https://localhost:8080/"
    },
    "executionInfo": {
     "elapsed": 134,
     "status": "ok",
     "timestamp": 1680035059744,
     "user": {
      "displayName": "Mehrdad M. Dehghan",
      "userId": "08222177611817016206"
     },
     "user_tz": 240
    },
    "id": "b6189ec4-510b-4f5a-8802-25b75cb89b09",
    "outputId": "3bd45428-1a7e-4c77-b9ce-49a6f486acb3"
   },
   "outputs": [
    {
     "name": "stdout",
     "output_type": "stream",
     "text": [
      "Age : Int64Index([   5,   17,   19,   26,   28,   29,   31,   32,   36,   42,\n",
      "            ...\n",
      "            1256, 1257, 1271, 1273, 1275, 1299, 1301, 1304, 1307, 1308],\n",
      "           dtype='int64', length=263)\n",
      "Parch : Int64Index([], dtype='int64')\n",
      "Fare : Int64Index([1043], dtype='int64')\n"
     ]
    }
   ],
   "source": [
    "null_checker()"
   ]
  },
  {
   "cell_type": "markdown",
   "id": "4f62e568-a99b-4a39-9d81-e0db7c3b867a",
   "metadata": {
    "id": "4f62e568-a99b-4a39-9d81-e0db7c3b867a"
   },
   "source": [
    "the result shows we have null values in <b>\"Age\" , \"Fare\"</b>.first we should make sure whether the number of missing values of each variable, are less then 5% of whole data or more."
   ]
  },
  {
   "cell_type": "code",
   "execution_count": 11,
   "id": "ab22edd7-3b4e-4982-bd59-c0817d1dc081",
   "metadata": {
    "colab": {
     "base_uri": "https://localhost:8080/"
    },
    "executionInfo": {
     "elapsed": 134,
     "status": "ok",
     "timestamp": 1680035062949,
     "user": {
      "displayName": "Mehrdad M. Dehghan",
      "userId": "08222177611817016206"
     },
     "user_tz": 240
    },
    "id": "ab22edd7-3b4e-4982-bd59-c0817d1dc081",
    "outputId": "496ef37a-90f8-4e9c-94d9-9e6255f4e312"
   },
   "outputs": [
    {
     "name": "stdout",
     "output_type": "stream",
     "text": [
      "Age : 20.092 %\n",
      "Parch : 0.0 %\n",
      "Fare : 0.076 %\n"
     ]
    }
   ],
   "source": [
    "for i in range(len(numerical_list)):\n",
    "    count_nan = df[numerical_list[i]].isna().sum()\n",
    "    print(numerical_list[i] , ':' , round((count_nan / df.shape[0]) * 100, 3) , '%')"
   ]
  },
  {
   "cell_type": "markdown",
   "id": "c32fb9c4-c832-43de-99ed-1349d5a7c760",
   "metadata": {
    "id": "c32fb9c4-c832-43de-99ed-1349d5a7c760",
    "tags": []
   },
   "source": [
    ">### 5.1 - Drop Null"
   ]
  },
  {
   "cell_type": "markdown",
   "id": "f28c3cb4-a7a1-49f0-b898-8fc362d590ff",
   "metadata": {
    "id": "f28c3cb4-a7a1-49f0-b898-8fc362d590ff"
   },
   "source": [
    "Since the percentage of <b>\"Fare\"</b> is less than 5%, we can drop null value"
   ]
  },
  {
   "cell_type": "code",
   "execution_count": 12,
   "id": "45a100cd-8b11-4e3b-8d23-416725108b33",
   "metadata": {
    "colab": {
     "base_uri": "https://localhost:8080/"
    },
    "executionInfo": {
     "elapsed": 128,
     "status": "ok",
     "timestamp": 1680035065508,
     "user": {
      "displayName": "Mehrdad M. Dehghan",
      "userId": "08222177611817016206"
     },
     "user_tz": 240
    },
    "id": "45a100cd-8b11-4e3b-8d23-416725108b33",
    "outputId": "73bca2e3-7dd4-4451-ecb3-e5508f802ea6"
   },
   "outputs": [
    {
     "name": "stdout",
     "output_type": "stream",
     "text": [
      "the dimension before removing null:  (1309, 11)\n",
      "the dimension after removing null:  (1308, 11)\n"
     ]
    }
   ],
   "source": [
    "print(\"the dimension before removing null: \" , df.shape)\n",
    "df = df.dropna(subset=['Fare'])\n",
    "print(\"the dimension after removing null: \" , df.shape)"
   ]
  },
  {
   "cell_type": "markdown",
   "id": "f1060245-8656-4918-8163-2d64e3a5f558",
   "metadata": {
    "id": "f1060245-8656-4918-8163-2d64e3a5f558"
   },
   "source": [
    "now again we can check the statuse of null values:"
   ]
  },
  {
   "cell_type": "code",
   "execution_count": 13,
   "id": "9703f50f-6074-45e4-9599-52affadce49a",
   "metadata": {
    "colab": {
     "base_uri": "https://localhost:8080/"
    },
    "executionInfo": {
     "elapsed": 337,
     "status": "ok",
     "timestamp": 1680035073008,
     "user": {
      "displayName": "Mehrdad M. Dehghan",
      "userId": "08222177611817016206"
     },
     "user_tz": 240
    },
    "id": "9703f50f-6074-45e4-9599-52affadce49a",
    "outputId": "aae7afb0-c4f4-4615-f68b-bc89eb1d5577"
   },
   "outputs": [
    {
     "name": "stdout",
     "output_type": "stream",
     "text": [
      "Age : Int64Index([   5,   17,   19,   26,   28,   29,   31,   32,   36,   42,\n",
      "            ...\n",
      "            1256, 1257, 1271, 1273, 1275, 1299, 1301, 1304, 1307, 1308],\n",
      "           dtype='int64', length=263)\n",
      "Parch : Int64Index([], dtype='int64')\n",
      "Fare : Int64Index([], dtype='int64')\n"
     ]
    }
   ],
   "source": [
    "null_checker()"
   ]
  },
  {
   "cell_type": "markdown",
   "id": "a5dc4f23-81b3-4d67-9ee5-1bae7525fcb1",
   "metadata": {
    "id": "a5dc4f23-81b3-4d67-9ee5-1bae7525fcb1",
    "tags": []
   },
   "source": [
    ">### 5.2 - Impute Null"
   ]
  },
  {
   "cell_type": "markdown",
   "id": "49a69a3d-0161-4327-a6e1-be6a06730be8",
   "metadata": {
    "id": "49a69a3d-0161-4327-a6e1-be6a06730be8"
   },
   "source": [
    "Since the percentage of <b>\"Age\"</b> is more than 5%, we should impute it"
   ]
  },
  {
   "cell_type": "code",
   "execution_count": 14,
   "id": "7ee7b9b7-045b-49d7-98cd-6e5f42053b2e",
   "metadata": {
    "colab": {
     "base_uri": "https://localhost:8080/"
    },
    "executionInfo": {
     "elapsed": 164,
     "status": "ok",
     "timestamp": 1680035082316,
     "user": {
      "displayName": "Mehrdad M. Dehghan",
      "userId": "08222177611817016206"
     },
     "user_tz": 240
    },
    "id": "7ee7b9b7-045b-49d7-98cd-6e5f42053b2e",
    "outputId": "530a45cd-a92e-4ab7-a7b0-669313ab4d4a"
   },
   "outputs": [
    {
     "name": "stdout",
     "output_type": "stream",
     "text": [
      "Skewness : 0.407\n",
      "Mean is bigger than Median. Right Skewed. Median for imputing\n"
     ]
    }
   ],
   "source": [
    "print('Skewness :' , round(df['Age'].skew() ,3))\n",
    "\n",
    "mean = df['Age'].mean()\n",
    "median = df['Age'].median()\n",
    "\n",
    "if mean > median:\n",
    "    print('Mean is bigger than Median. Right Skewed. Median for imputing')\n",
    "else:\n",
    "    print('Mean is smaller than Median. Left Skewed. Mean for imputing')"
   ]
  },
  {
   "cell_type": "code",
   "execution_count": 15,
   "id": "d9db90c2-7ae4-44e2-9ab2-6fc51697be0c",
   "metadata": {
    "colab": {
     "base_uri": "https://localhost:8080/"
    },
    "executionInfo": {
     "elapsed": 213,
     "status": "ok",
     "timestamp": 1680035087711,
     "user": {
      "displayName": "Mehrdad M. Dehghan",
      "userId": "08222177611817016206"
     },
     "user_tz": 240
    },
    "id": "d9db90c2-7ae4-44e2-9ab2-6fc51697be0c",
    "outputId": "27201481-a2c2-4d3f-93a7-2f7326d938b5"
   },
   "outputs": [],
   "source": [
    "df['Age'] = df['Age'].fillna(median).round(0)"
   ]
  },
  {
   "cell_type": "markdown",
   "id": "8646669f-fd2d-48a0-b0c3-c203e5b9b907",
   "metadata": {
    "id": "8646669f-fd2d-48a0-b0c3-c203e5b9b907"
   },
   "source": [
    "now check the number of null values:"
   ]
  },
  {
   "cell_type": "code",
   "execution_count": 16,
   "id": "058665ac-2f29-464f-b972-d654338bb9dc",
   "metadata": {
    "colab": {
     "base_uri": "https://localhost:8080/"
    },
    "executionInfo": {
     "elapsed": 128,
     "status": "ok",
     "timestamp": 1680035097266,
     "user": {
      "displayName": "Mehrdad M. Dehghan",
      "userId": "08222177611817016206"
     },
     "user_tz": 240
    },
    "id": "058665ac-2f29-464f-b972-d654338bb9dc",
    "outputId": "3266f91d-fb4d-42c9-cde9-454d0b20fe8c",
    "scrolled": true
   },
   "outputs": [
    {
     "name": "stdout",
     "output_type": "stream",
     "text": [
      "Age : Int64Index([], dtype='int64')\n",
      "Parch : Int64Index([], dtype='int64')\n",
      "Fare : Int64Index([], dtype='int64')\n"
     ]
    }
   ],
   "source": [
    "null_checker()"
   ]
  },
  {
   "cell_type": "markdown",
   "id": "f34a0c93",
   "metadata": {},
   "source": [
    "<hr>"
   ]
  },
  {
   "cell_type": "markdown",
   "id": "0c69b341-5369-4bc0-911c-47c4be15aa6d",
   "metadata": {
    "id": "0c69b341-5369-4bc0-911c-47c4be15aa6d",
    "tags": []
   },
   "source": [
    "## 6 - Possible Range"
   ]
  },
  {
   "cell_type": "markdown",
   "id": "3bfd2ad1-1b09-48e6-a24d-e0a099b74f64",
   "metadata": {
    "id": "3bfd2ad1-1b09-48e6-a24d-e0a099b74f64"
   },
   "source": [
    "For numerical variables, there is no specific range."
   ]
  },
  {
   "cell_type": "markdown",
   "id": "bce1c0c0",
   "metadata": {},
   "source": [
    "<hr>"
   ]
  },
  {
   "cell_type": "markdown",
   "id": "5dfba275-14cc-4ad3-a565-e7d24e2d8740",
   "metadata": {
    "id": "5dfba275-14cc-4ad3-a565-e7d24e2d8740"
   },
   "source": [
    "## Check Point"
   ]
  },
  {
   "cell_type": "code",
   "execution_count": 18,
   "id": "dc085d26-07a9-467e-bdc2-efb89d932b25",
   "metadata": {
    "executionInfo": {
     "elapsed": 132,
     "status": "ok",
     "timestamp": 1680035133543,
     "user": {
      "displayName": "Mehrdad M. Dehghan",
      "userId": "08222177611817016206"
     },
     "user_tz": 240
    },
    "id": "dc085d26-07a9-467e-bdc2-efb89d932b25"
   },
   "outputs": [],
   "source": [
    "with open('../Assets/Version 1-2.pickle', 'wb') as file:\n",
    "    pickle.dump(df, file)"
   ]
  },
  {
   "cell_type": "code",
   "execution_count": null,
   "id": "f32a9916",
   "metadata": {},
   "outputs": [],
   "source": []
  }
 ],
 "metadata": {
  "colab": {
   "provenance": []
  },
  "kernelspec": {
   "display_name": "Python 3 (ipykernel)",
   "language": "python",
   "name": "python3"
  },
  "language_info": {
   "codemirror_mode": {
    "name": "ipython",
    "version": 3
   },
   "file_extension": ".py",
   "mimetype": "text/x-python",
   "name": "python",
   "nbconvert_exporter": "python",
   "pygments_lexer": "ipython3",
   "version": "3.9.13"
  }
 },
 "nbformat": 4,
 "nbformat_minor": 5
}
