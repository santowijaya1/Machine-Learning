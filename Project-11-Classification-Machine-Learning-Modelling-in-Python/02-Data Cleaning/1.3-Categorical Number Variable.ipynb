{
 "cells": [
  {
   "cell_type": "markdown",
   "id": "758ed1b7-0677-4987-a091-23c8634ba616",
   "metadata": {
    "id": "758ed1b7-0677-4987-a091-23c8634ba616",
    "tags": []
   },
   "source": [
    "## 1 - SetUp Environment"
   ]
  },
  {
   "cell_type": "code",
   "execution_count": 1,
   "id": "8a75bd18-4bb5-4ec9-9423-5c391efcce7c",
   "metadata": {
    "colab": {
     "base_uri": "https://localhost:8080/"
    },
    "executionInfo": {
     "elapsed": 17713,
     "status": "ok",
     "timestamp": 1680039313760,
     "user": {
      "displayName": "Mehrdad M. Dehghan",
      "userId": "08222177611817016206"
     },
     "user_tz": 240
    },
    "id": "8a75bd18-4bb5-4ec9-9423-5c391efcce7c",
    "outputId": "7b8d683c-2fb1-4160-dc97-416a1af6f2db"
   },
   "outputs": [],
   "source": [
    "import numpy as np\n",
    "import pandas as pd\n",
    "import pickle"
   ]
  },
  {
   "cell_type": "markdown",
   "id": "f551f440",
   "metadata": {},
   "source": [
    "<hr>"
   ]
  },
  {
   "cell_type": "markdown",
   "id": "16f973d7-67db-44c9-9469-eeea0813c270",
   "metadata": {
    "id": "16f973d7-67db-44c9-9469-eeea0813c270",
    "tags": []
   },
   "source": [
    "## 2 - Load Dataframe"
   ]
  },
  {
   "cell_type": "code",
   "execution_count": 2,
   "id": "6fd45528-64cd-4fe7-80b3-eeaf8f05573c",
   "metadata": {
    "colab": {
     "base_uri": "https://localhost:8080/",
     "height": 143
    },
    "executionInfo": {
     "elapsed": 643,
     "status": "ok",
     "timestamp": 1680039330379,
     "user": {
      "displayName": "Mehrdad M. Dehghan",
      "userId": "08222177611817016206"
     },
     "user_tz": 240
    },
    "id": "6fd45528-64cd-4fe7-80b3-eeaf8f05573c",
    "outputId": "2d3927b5-d298-4d8f-a4c0-64cf612c0c89",
    "scrolled": true
   },
   "outputs": [
    {
     "data": {
      "text/html": [
       "<div>\n",
       "<style scoped>\n",
       "    .dataframe tbody tr th:only-of-type {\n",
       "        vertical-align: middle;\n",
       "    }\n",
       "\n",
       "    .dataframe tbody tr th {\n",
       "        vertical-align: top;\n",
       "    }\n",
       "\n",
       "    .dataframe thead th {\n",
       "        text-align: right;\n",
       "    }\n",
       "</style>\n",
       "<table border=\"1\" class=\"dataframe\">\n",
       "  <thead>\n",
       "    <tr style=\"text-align: right;\">\n",
       "      <th></th>\n",
       "      <th>PassengerId</th>\n",
       "      <th>Name</th>\n",
       "      <th>Ticket</th>\n",
       "      <th>Age</th>\n",
       "      <th>Parch</th>\n",
       "      <th>Fare</th>\n",
       "      <th>Pclass</th>\n",
       "      <th>Sex</th>\n",
       "      <th>Cabin</th>\n",
       "      <th>Embarked</th>\n",
       "      <th>Survived</th>\n",
       "    </tr>\n",
       "  </thead>\n",
       "  <tbody>\n",
       "    <tr>\n",
       "      <th>0</th>\n",
       "      <td>1</td>\n",
       "      <td>Braund, Mr. Owen Harris</td>\n",
       "      <td>A/5 21171</td>\n",
       "      <td>22.0</td>\n",
       "      <td>0</td>\n",
       "      <td>7.2500</td>\n",
       "      <td>3</td>\n",
       "      <td>male</td>\n",
       "      <td>NaN</td>\n",
       "      <td>S</td>\n",
       "      <td>0</td>\n",
       "    </tr>\n",
       "    <tr>\n",
       "      <th>1</th>\n",
       "      <td>2</td>\n",
       "      <td>Cumings, Mrs. John Bradley (Florence Briggs Th...</td>\n",
       "      <td>PC 17599</td>\n",
       "      <td>38.0</td>\n",
       "      <td>0</td>\n",
       "      <td>71.2833</td>\n",
       "      <td>1</td>\n",
       "      <td>female</td>\n",
       "      <td>C85</td>\n",
       "      <td>C</td>\n",
       "      <td>1</td>\n",
       "    </tr>\n",
       "    <tr>\n",
       "      <th>2</th>\n",
       "      <td>3</td>\n",
       "      <td>Heikkinen, Miss. Laina</td>\n",
       "      <td>STON/O2. 3101282</td>\n",
       "      <td>26.0</td>\n",
       "      <td>0</td>\n",
       "      <td>7.9250</td>\n",
       "      <td>3</td>\n",
       "      <td>female</td>\n",
       "      <td>NaN</td>\n",
       "      <td>S</td>\n",
       "      <td>1</td>\n",
       "    </tr>\n",
       "    <tr>\n",
       "      <th>3</th>\n",
       "      <td>4</td>\n",
       "      <td>Futrelle, Mrs. Jacques Heath (Lily May Peel)</td>\n",
       "      <td>113803</td>\n",
       "      <td>35.0</td>\n",
       "      <td>0</td>\n",
       "      <td>53.1000</td>\n",
       "      <td>1</td>\n",
       "      <td>female</td>\n",
       "      <td>C123</td>\n",
       "      <td>S</td>\n",
       "      <td>1</td>\n",
       "    </tr>\n",
       "    <tr>\n",
       "      <th>4</th>\n",
       "      <td>5</td>\n",
       "      <td>Allen, Mr. William Henry</td>\n",
       "      <td>373450</td>\n",
       "      <td>35.0</td>\n",
       "      <td>0</td>\n",
       "      <td>8.0500</td>\n",
       "      <td>3</td>\n",
       "      <td>male</td>\n",
       "      <td>NaN</td>\n",
       "      <td>S</td>\n",
       "      <td>0</td>\n",
       "    </tr>\n",
       "  </tbody>\n",
       "</table>\n",
       "</div>"
      ],
      "text/plain": [
       "   PassengerId                                               Name  \\\n",
       "0            1                            Braund, Mr. Owen Harris   \n",
       "1            2  Cumings, Mrs. John Bradley (Florence Briggs Th...   \n",
       "2            3                             Heikkinen, Miss. Laina   \n",
       "3            4       Futrelle, Mrs. Jacques Heath (Lily May Peel)   \n",
       "4            5                           Allen, Mr. William Henry   \n",
       "\n",
       "             Ticket   Age  Parch     Fare  Pclass     Sex Cabin Embarked  \\\n",
       "0         A/5 21171  22.0      0   7.2500       3    male   NaN        S   \n",
       "1          PC 17599  38.0      0  71.2833       1  female   C85        C   \n",
       "2  STON/O2. 3101282  26.0      0   7.9250       3  female   NaN        S   \n",
       "3            113803  35.0      0  53.1000       1  female  C123        S   \n",
       "4            373450  35.0      0   8.0500       3    male   NaN        S   \n",
       "\n",
       "   Survived  \n",
       "0         0  \n",
       "1         1  \n",
       "2         1  \n",
       "3         1  \n",
       "4         0  "
      ]
     },
     "execution_count": 2,
     "metadata": {},
     "output_type": "execute_result"
    }
   ],
   "source": [
    "with open('../Assets/Version 1-2.pickle', 'rb') as file:\n",
    "    df = pickle.load(file)\n",
    "\n",
    "df.head()"
   ]
  },
  {
   "cell_type": "markdown",
   "id": "f27133b7",
   "metadata": {},
   "source": [
    "<hr>"
   ]
  },
  {
   "cell_type": "markdown",
   "id": "02efccfa-3266-47fc-82da-235ab6cb45fe",
   "metadata": {
    "id": "02efccfa-3266-47fc-82da-235ab6cb45fe",
    "tags": []
   },
   "source": [
    "## 3 - Declare Variable"
   ]
  },
  {
   "cell_type": "markdown",
   "id": "5f0e918f-cabd-475d-bff3-7a43054e2f52",
   "metadata": {
    "id": "5f0e918f-cabd-475d-bff3-7a43054e2f52"
   },
   "source": [
    "In this section, I work on just number categorical variables:</br>\n",
    "<li> Pclass\n",
    "<li> Survived"
   ]
  },
  {
   "cell_type": "code",
   "execution_count": 3,
   "id": "2d7ad439-0cad-4034-90bb-7a9cab072755",
   "metadata": {
    "executionInfo": {
     "elapsed": 139,
     "status": "ok",
     "timestamp": 1680039334703,
     "user": {
      "displayName": "Mehrdad M. Dehghan",
      "userId": "08222177611817016206"
     },
     "user_tz": 240
    },
    "id": "2d7ad439-0cad-4034-90bb-7a9cab072755"
   },
   "outputs": [],
   "source": [
    "CatNum_list = ['Pclass' , 'Survived']"
   ]
  },
  {
   "cell_type": "markdown",
   "id": "7a9f0a03",
   "metadata": {},
   "source": [
    "<hr>"
   ]
  },
  {
   "cell_type": "markdown",
   "id": "40be6a65-3ac5-43e7-9f8d-a651eb276c9e",
   "metadata": {
    "id": "40be6a65-3ac5-43e7-9f8d-a651eb276c9e",
    "tags": []
   },
   "source": [
    "## 4 - Data Type Conversion"
   ]
  },
  {
   "cell_type": "markdown",
   "id": "4a4766df-f0ae-40f2-8f89-6645357b2895",
   "metadata": {
    "id": "4a4766df-f0ae-40f2-8f89-6645357b2895"
   },
   "source": [
    "the first thing that should be check is that we must make sure about data type. Just because the column show numbers, it doesn't mean that they are integer."
   ]
  },
  {
   "cell_type": "code",
   "execution_count": 4,
   "id": "b9e09597-8c2c-4908-a709-da5c9d2ece3d",
   "metadata": {
    "executionInfo": {
     "elapsed": 161,
     "status": "ok",
     "timestamp": 1680039337829,
     "user": {
      "displayName": "Mehrdad M. Dehghan",
      "userId": "08222177611817016206"
     },
     "user_tz": 240
    },
    "id": "b9e09597-8c2c-4908-a709-da5c9d2ece3d"
   },
   "outputs": [],
   "source": [
    "def non_numeric(x):\n",
    "    non_numeric_df = pd.DataFrame(df[df[x].astype(str).str.contains('[^0-9]+')])\n",
    "    return non_numeric_df"
   ]
  },
  {
   "cell_type": "markdown",
   "id": "bfd31145",
   "metadata": {},
   "source": [
    "> ### 4.1 - Pclass"
   ]
  },
  {
   "cell_type": "code",
   "execution_count": 5,
   "id": "add631e7-70ba-4eaf-a56d-67ea8e939c69",
   "metadata": {
    "colab": {
     "base_uri": "https://localhost:8080/",
     "height": 852
    },
    "executionInfo": {
     "elapsed": 224,
     "status": "ok",
     "timestamp": 1680039342429,
     "user": {
      "displayName": "Mehrdad M. Dehghan",
      "userId": "08222177611817016206"
     },
     "user_tz": 240
    },
    "id": "add631e7-70ba-4eaf-a56d-67ea8e939c69",
    "outputId": "15ad49af-f8b6-4a3d-e744-d4ecb6351a70"
   },
   "outputs": [
    {
     "data": {
      "text/plain": [
       "3001"
      ]
     },
     "execution_count": 5,
     "metadata": {},
     "output_type": "execute_result"
    }
   ],
   "source": [
    "non_numeric('Pclass')\n",
    "df['Pclass'].sum()"
   ]
  },
  {
   "cell_type": "markdown",
   "id": "09b2d904-9ba3-4479-91ab-a77194717021",
   "metadata": {
    "id": "09b2d904-9ba3-4479-91ab-a77194717021"
   },
   "source": [
    "The result shows all categories in this variable are number."
   ]
  },
  {
   "cell_type": "markdown",
   "id": "dbfebc74",
   "metadata": {},
   "source": [
    "> ### 4.2 - Survived"
   ]
  },
  {
   "cell_type": "code",
   "execution_count": 6,
   "id": "e8915d05",
   "metadata": {},
   "outputs": [
    {
     "data": {
      "text/plain": [
       "494"
      ]
     },
     "execution_count": 6,
     "metadata": {},
     "output_type": "execute_result"
    }
   ],
   "source": [
    "non_numeric('Survived')\n",
    "df['Survived'].sum()"
   ]
  },
  {
   "cell_type": "markdown",
   "id": "cdb74118",
   "metadata": {},
   "source": [
    "The result shows all categories in this variable are number"
   ]
  },
  {
   "cell_type": "markdown",
   "id": "ddb2e25a",
   "metadata": {},
   "source": [
    "<hr>"
   ]
  },
  {
   "cell_type": "markdown",
   "id": "bbfa3b03-8d9c-4283-977e-7035b0dfa7b3",
   "metadata": {
    "id": "bbfa3b03-8d9c-4283-977e-7035b0dfa7b3",
    "tags": []
   },
   "source": [
    "## 5 - Handle Null Values"
   ]
  },
  {
   "cell_type": "markdown",
   "id": "26e768d6-6893-456f-9642-0ff4ee10896c",
   "metadata": {
    "id": "26e768d6-6893-456f-9642-0ff4ee10896c"
   },
   "source": [
    "we must make sure whether we have null values in these variables or not."
   ]
  },
  {
   "cell_type": "code",
   "execution_count": 8,
   "id": "a38f63bd-d5c3-46b5-95cb-2efa7c32a069",
   "metadata": {
    "executionInfo": {
     "elapsed": 142,
     "status": "ok",
     "timestamp": 1680039356682,
     "user": {
      "displayName": "Mehrdad M. Dehghan",
      "userId": "08222177611817016206"
     },
     "user_tz": 240
    },
    "id": "a38f63bd-d5c3-46b5-95cb-2efa7c32a069"
   },
   "outputs": [],
   "source": [
    "def null_checker():\n",
    "    for i in range(len(CatNum_list)):\n",
    "        print(CatNum_list[i] , ':' , df.loc[df[CatNum_list[i]].isnull()].index)"
   ]
  },
  {
   "cell_type": "markdown",
   "id": "39597a84-5a00-439f-a760-b75fce22b91c",
   "metadata": {
    "id": "39597a84-5a00-439f-a760-b75fce22b91c"
   },
   "source": [
    "Then we run the function for variables"
   ]
  },
  {
   "cell_type": "code",
   "execution_count": 9,
   "id": "1f028b62-3dfb-4815-a168-b5a6a2422b6d",
   "metadata": {
    "colab": {
     "base_uri": "https://localhost:8080/"
    },
    "executionInfo": {
     "elapsed": 4,
     "status": "ok",
     "timestamp": 1680039359783,
     "user": {
      "displayName": "Mehrdad M. Dehghan",
      "userId": "08222177611817016206"
     },
     "user_tz": 240
    },
    "id": "1f028b62-3dfb-4815-a168-b5a6a2422b6d",
    "outputId": "e93d2b4b-d7fb-40da-a198-b49bab5b2250"
   },
   "outputs": [
    {
     "name": "stdout",
     "output_type": "stream",
     "text": [
      "Pclass : Int64Index([], dtype='int64')\n",
      "Survived : Int64Index([], dtype='int64')\n"
     ]
    }
   ],
   "source": [
    "null_checker()"
   ]
  },
  {
   "cell_type": "markdown",
   "id": "d95355bd-06d1-44af-b4a8-ee64cea90b8d",
   "metadata": {
    "id": "d95355bd-06d1-44af-b4a8-ee64cea90b8d"
   },
   "source": [
    "We don't have any null values."
   ]
  },
  {
   "cell_type": "markdown",
   "id": "a18c9b74",
   "metadata": {},
   "source": [
    "<hr>"
   ]
  },
  {
   "cell_type": "markdown",
   "id": "92a430a3-58f2-450b-a1ff-dea2bd6191de",
   "metadata": {
    "id": "92a430a3-58f2-450b-a1ff-dea2bd6191de"
   },
   "source": [
    "## 6 - Possible Range"
   ]
  },
  {
   "cell_type": "markdown",
   "id": "796afd9d-6125-4bea-8e30-112e8f66c447",
   "metadata": {
    "id": "796afd9d-6125-4bea-8e30-112e8f66c447"
   },
   "source": [
    "Based on data documentation, the <b>\"Pclass\"</b> should be 1,2 or 3, and <b>\"Survived\"</b> should be 0 or 1."
   ]
  },
  {
   "cell_type": "code",
   "execution_count": 10,
   "id": "3f7d775c-73f8-43c8-bd71-6e2ffcce7a39",
   "metadata": {
    "colab": {
     "base_uri": "https://localhost:8080/"
    },
    "executionInfo": {
     "elapsed": 134,
     "status": "ok",
     "timestamp": 1680039381354,
     "user": {
      "displayName": "Mehrdad M. Dehghan",
      "userId": "08222177611817016206"
     },
     "user_tz": 240
    },
    "id": "3f7d775c-73f8-43c8-bd71-6e2ffcce7a39",
    "outputId": "d205290e-864e-4d95-9e49-c983d6fcc370"
   },
   "outputs": [
    {
     "name": "stdout",
     "output_type": "stream",
     "text": [
      "Range: [1, 2, 3]\n",
      "\n",
      "\n",
      "3    708\n",
      "1    323\n",
      "2    277\n",
      "Name: Pclass, dtype: int64\n"
     ]
    }
   ],
   "source": [
    "print('Range:', sorted(df['Pclass'].unique()))\n",
    "print('\\n')\n",
    "print(df['Pclass'].value_counts())"
   ]
  },
  {
   "cell_type": "code",
   "execution_count": 11,
   "id": "5a133d51",
   "metadata": {
    "scrolled": false
   },
   "outputs": [
    {
     "name": "stdout",
     "output_type": "stream",
     "text": [
      "Range: [0, 1]\n",
      "\n",
      "\n",
      "0    814\n",
      "1    494\n",
      "Name: Survived, dtype: int64\n"
     ]
    }
   ],
   "source": [
    "print('Range:', sorted(df['Survived'].unique()))\n",
    "print('\\n')\n",
    "print(df['Survived'].value_counts())"
   ]
  },
  {
   "cell_type": "markdown",
   "id": "c1516663",
   "metadata": {},
   "source": [
    "<hr>"
   ]
  },
  {
   "cell_type": "markdown",
   "id": "5dfba275-14cc-4ad3-a565-e7d24e2d8740",
   "metadata": {
    "id": "5dfba275-14cc-4ad3-a565-e7d24e2d8740"
   },
   "source": [
    "## Check Point"
   ]
  },
  {
   "cell_type": "code",
   "execution_count": 12,
   "id": "dc085d26-07a9-467e-bdc2-efb89d932b25",
   "metadata": {
    "executionInfo": {
     "elapsed": 623,
     "status": "ok",
     "timestamp": 1680039421022,
     "user": {
      "displayName": "Mehrdad M. Dehghan",
      "userId": "08222177611817016206"
     },
     "user_tz": 240
    },
    "id": "dc085d26-07a9-467e-bdc2-efb89d932b25"
   },
   "outputs": [],
   "source": [
    "with open('../Assets/Version 1-3.pickle', 'wb') as file:\n",
    "    pickle.dump(df, file)"
   ]
  },
  {
   "cell_type": "code",
   "execution_count": null,
   "id": "77d35c56",
   "metadata": {},
   "outputs": [],
   "source": []
  }
 ],
 "metadata": {
  "colab": {
   "collapsed_sections": [
    "5dfba275-14cc-4ad3-a565-e7d24e2d8740"
   ],
   "provenance": []
  },
  "kernelspec": {
   "display_name": "Python 3 (ipykernel)",
   "language": "python",
   "name": "python3"
  },
  "language_info": {
   "codemirror_mode": {
    "name": "ipython",
    "version": 3
   },
   "file_extension": ".py",
   "mimetype": "text/x-python",
   "name": "python",
   "nbconvert_exporter": "python",
   "pygments_lexer": "ipython3",
   "version": "3.9.13"
  }
 },
 "nbformat": 4,
 "nbformat_minor": 5
}
