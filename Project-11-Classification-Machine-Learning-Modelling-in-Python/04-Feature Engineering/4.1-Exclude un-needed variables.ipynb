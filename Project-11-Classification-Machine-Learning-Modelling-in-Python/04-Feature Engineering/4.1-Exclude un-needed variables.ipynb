{
 "cells": [
  {
   "cell_type": "markdown",
   "id": "758ed1b7-0677-4987-a091-23c8634ba616",
   "metadata": {
    "id": "758ed1b7-0677-4987-a091-23c8634ba616",
    "tags": []
   },
   "source": [
    "## 1 - SetUp Environment"
   ]
  },
  {
   "cell_type": "code",
   "execution_count": 1,
   "id": "8a75bd18-4bb5-4ec9-9423-5c391efcce7c",
   "metadata": {
    "colab": {
     "base_uri": "https://localhost:8080/"
    },
    "executionInfo": {
     "elapsed": 16090,
     "status": "ok",
     "timestamp": 1680039944506,
     "user": {
      "displayName": "Mehrdad M. Dehghan",
      "userId": "08222177611817016206"
     },
     "user_tz": 240
    },
    "id": "8a75bd18-4bb5-4ec9-9423-5c391efcce7c",
    "outputId": "f5a60693-5481-4bbb-a64d-634d9bf8e840"
   },
   "outputs": [],
   "source": [
    "import numpy as np\n",
    "import pandas as pd\n",
    "import pickle"
   ]
  },
  {
   "cell_type": "markdown",
   "id": "64a0e375",
   "metadata": {},
   "source": [
    "<hr>"
   ]
  },
  {
   "cell_type": "markdown",
   "id": "16f973d7-67db-44c9-9469-eeea0813c270",
   "metadata": {
    "id": "16f973d7-67db-44c9-9469-eeea0813c270",
    "tags": []
   },
   "source": [
    "## 2 - Load Features"
   ]
  },
  {
   "cell_type": "code",
   "execution_count": 3,
   "id": "6fd45528-64cd-4fe7-80b3-eeaf8f05573c",
   "metadata": {
    "colab": {
     "base_uri": "https://localhost:8080/",
     "height": 143
    },
    "executionInfo": {
     "elapsed": 333,
     "status": "ok",
     "timestamp": 1680039961316,
     "user": {
      "displayName": "Mehrdad M. Dehghan",
      "userId": "08222177611817016206"
     },
     "user_tz": 240
    },
    "id": "6fd45528-64cd-4fe7-80b3-eeaf8f05573c",
    "outputId": "5d5ce715-f73b-45f0-9641-388c64486615",
    "scrolled": true
   },
   "outputs": [],
   "source": [
    "with open('../Assets/Version 1-4.pickle', 'rb') as file:\n",
    "    df = pickle.load(file)"
   ]
  },
  {
   "cell_type": "markdown",
   "id": "5e52647c",
   "metadata": {},
   "source": [
    "<hr>"
   ]
  },
  {
   "cell_type": "markdown",
   "id": "d24d34a8",
   "metadata": {},
   "source": [
    "## 3 - Remove Un-Needed Variable"
   ]
  },
  {
   "cell_type": "markdown",
   "id": "ef28a6e7",
   "metadata": {},
   "source": [
    "To remove un-needed variables and those that don't bring any positive effect on the model, we have two ways:\n",
    "* consult we domain experts\n",
    "* see the correlation analysis"
   ]
  },
  {
   "cell_type": "markdown",
   "id": "b43c199d",
   "metadata": {},
   "source": [
    "> ### 3.1 - Numerical"
   ]
  },
  {
   "cell_type": "markdown",
   "id": "1a7daaf7",
   "metadata": {},
   "source": [
    "based on the correlation analysis between numerical features and target, we should refere to ANOVA test.\n",
    "* the p-value of <b>Survived ~ Age</b> is 0.105365. So, it means Age is <u>not significant</u> feature for explaining being survive or not.\n",
    "* the p-value of <b>Survived ~ Parch</b> is 0.000071. So, it means Parch is <u>significant</u> feature for explaining being survive or not.\n",
    "* the p-value of <b>Survived ~ Fare</b> is 1.847173e-17. So, it means Fare is <u>significant</u> feature for explaining being survive or not.\n",
    "\n",
    "However, because of the context of analysis, we prefer to keep Age in our model."
   ]
  },
  {
   "cell_type": "markdown",
   "id": "96cdbaff",
   "metadata": {},
   "source": [
    "> ### 3.2 - Categorical"
   ]
  },
  {
   "cell_type": "markdown",
   "id": "c313d4fc",
   "metadata": {},
   "source": [
    "based on the correlation analysis between categorical features and target, we should refere to Chi-Square.\n",
    "* the p-value of <b>Survived ~ Sex</b> is 1.3890628126435168e-135. So, it means Sex is <u>significant</u> feature for explaining being survive or not.\n",
    "* the p-value of <b>Survived ~ Cabin</b> is 1.23182785274672e-16. So, it means Cabin is <u>significant</u> feature for explaining being survive or not.\n",
    "* the p-value of <b>Survived ~ Embarked</b> is 4.672202225231174e-06. So, it means Embarked is <u>significant</u> feature for explaining being survive or not.\n",
    "* the p-value of <b>Survived ~ Pclass</b> is 3.2794837536918885e-20. So, it means Pclass is <u>significant</u> feature for explaining being survive or not."
   ]
  },
  {
   "cell_type": "markdown",
   "id": "052fee31",
   "metadata": {},
   "source": [
    "> ### 3.3 - String"
   ]
  },
  {
   "cell_type": "markdown",
   "id": "53a79eb3",
   "metadata": {},
   "source": [
    "These variables cannot help model and they are just label. so we remove them:"
   ]
  },
  {
   "cell_type": "code",
   "execution_count": 5,
   "id": "a901ba24",
   "metadata": {},
   "outputs": [],
   "source": [
    "remove_list = ['PassengerId' , 'Name', 'Ticket']\n",
    "df = df.drop(remove_list, axis=1)"
   ]
  },
  {
   "cell_type": "markdown",
   "id": "23ed11ac",
   "metadata": {},
   "source": [
    "<hr>"
   ]
  },
  {
   "cell_type": "markdown",
   "id": "5dfba275-14cc-4ad3-a565-e7d24e2d8740",
   "metadata": {
    "id": "5dfba275-14cc-4ad3-a565-e7d24e2d8740"
   },
   "source": [
    "## Check Point"
   ]
  },
  {
   "cell_type": "code",
   "execution_count": 7,
   "id": "9168e44a",
   "metadata": {
    "executionInfo": {
     "elapsed": 289,
     "status": "ok",
     "timestamp": 1680040066696,
     "user": {
      "displayName": "Mehrdad M. Dehghan",
      "userId": "08222177611817016206"
     },
     "user_tz": 240
    },
    "id": "dc085d26-07a9-467e-bdc2-efb89d932b25"
   },
   "outputs": [],
   "source": [
    "with open('../Assets/Version 4-1.pickle', 'wb') as file:\n",
    "    pickle.dump(df, file)"
   ]
  },
  {
   "cell_type": "code",
   "execution_count": null,
   "id": "54515fd1",
   "metadata": {},
   "outputs": [],
   "source": []
  }
 ],
 "metadata": {
  "colab": {
   "provenance": []
  },
  "kernelspec": {
   "display_name": "Python 3 (ipykernel)",
   "language": "python",
   "name": "python3"
  },
  "language_info": {
   "codemirror_mode": {
    "name": "ipython",
    "version": 3
   },
   "file_extension": ".py",
   "mimetype": "text/x-python",
   "name": "python",
   "nbconvert_exporter": "python",
   "pygments_lexer": "ipython3",
   "version": "3.9.13"
  }
 },
 "nbformat": 4,
 "nbformat_minor": 5
}
